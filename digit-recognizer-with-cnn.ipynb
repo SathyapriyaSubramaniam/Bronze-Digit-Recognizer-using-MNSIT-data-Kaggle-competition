{
 "cells": [
  {
   "cell_type": "code",
   "execution_count": 1,
   "id": "d7002c07",
   "metadata": {
    "_cell_guid": "b1076dfc-b9ad-4769-8c92-a6c4dae69d19",
    "_uuid": "8f2839f25d086af736a60e9eeb907d3b93b6e0e5",
    "execution": {
     "iopub.execute_input": "2021-08-17T03:50:48.527280Z",
     "iopub.status.busy": "2021-08-17T03:50:48.519213Z",
     "iopub.status.idle": "2021-08-17T03:50:48.532917Z",
     "shell.execute_reply": "2021-08-17T03:50:48.532240Z",
     "shell.execute_reply.started": "2021-08-17T03:47:27.511647Z"
    },
    "papermill": {
     "duration": 0.050877,
     "end_time": "2021-08-17T03:50:48.533090",
     "exception": false,
     "start_time": "2021-08-17T03:50:48.482213",
     "status": "completed"
    },
    "tags": []
   },
   "outputs": [
    {
     "name": "stdout",
     "output_type": "stream",
     "text": [
      "/kaggle/input/digit-recognizer/sample_submission.csv\n",
      "/kaggle/input/digit-recognizer/train.csv\n",
      "/kaggle/input/digit-recognizer/test.csv\n"
     ]
    }
   ],
   "source": [
    "# This Python 3 environment comes with many helpful analytics libraries installed\n",
    "# It is defined by the kaggle/python Docker image: https://github.com/kaggle/docker-python\n",
    "# For example, here's several helpful packages to load\n",
    "\n",
    "import numpy as np # linear algebra\n",
    "import pandas as pd # data processing, CSV file I/O (e.g. pd.read_csv)\n",
    "\n",
    "# Input data files are available in the read-only \"../input/\" directory\n",
    "# For example, running this (by clicking run or pressing Shift+Enter) will list all files under the input directory\n",
    "\n",
    "import os\n",
    "for dirname, _, filenames in os.walk('/kaggle/input'):\n",
    "    for filename in filenames:\n",
    "        print(os.path.join(dirname, filename))\n",
    "\n",
    "# You can write up to 20GB to the current directory (/kaggle/working/) that gets preserved as output when you create a version using \"Save & Run All\" \n",
    "# You can also write temporary files to /kaggle/temp/, but they won't be saved outside of the current session"
   ]
  },
  {
   "cell_type": "code",
   "execution_count": null,
   "id": "4e5aaee9",
   "metadata": {
    "papermill": {
     "duration": 0.032677,
     "end_time": "2021-08-17T03:50:48.598999",
     "exception": false,
     "start_time": "2021-08-17T03:50:48.566322",
     "status": "completed"
    },
    "tags": []
   },
   "outputs": [],
   "source": []
  },
  {
   "cell_type": "markdown",
   "id": "da105bc3",
   "metadata": {
    "papermill": {
     "duration": 0.031435,
     "end_time": "2021-08-17T03:50:48.663302",
     "exception": false,
     "start_time": "2021-08-17T03:50:48.631867",
     "status": "completed"
    },
    "tags": []
   },
   "source": [
    "#### *Basic Library imports*"
   ]
  },
  {
   "cell_type": "code",
   "execution_count": 2,
   "id": "3c16f276",
   "metadata": {
    "execution": {
     "iopub.execute_input": "2021-08-17T03:50:48.730846Z",
     "iopub.status.busy": "2021-08-17T03:50:48.730271Z",
     "iopub.status.idle": "2021-08-17T03:50:53.535599Z",
     "shell.execute_reply": "2021-08-17T03:50:53.535080Z",
     "shell.execute_reply.started": "2021-08-17T03:47:27.526034Z"
    },
    "papermill": {
     "duration": 4.840586,
     "end_time": "2021-08-17T03:50:53.535738",
     "exception": false,
     "start_time": "2021-08-17T03:50:48.695152",
     "status": "completed"
    },
    "tags": []
   },
   "outputs": [],
   "source": [
    "import pandas as pd\n",
    "import numpy as np\n",
    "import matplotlib.pyplot as plt\n",
    "import seaborn as sns\n",
    "import tensorflow as tf\n",
    "from tensorflow import keras"
   ]
  },
  {
   "cell_type": "markdown",
   "id": "19a50dfa",
   "metadata": {
    "papermill": {
     "duration": 0.032667,
     "end_time": "2021-08-17T03:50:53.601218",
     "exception": false,
     "start_time": "2021-08-17T03:50:53.568551",
     "status": "completed"
    },
    "tags": []
   },
   "source": [
    "#### *Inspecting Training Data*"
   ]
  },
  {
   "cell_type": "code",
   "execution_count": 3,
   "id": "49d738fa",
   "metadata": {
    "execution": {
     "iopub.execute_input": "2021-08-17T03:50:53.669034Z",
     "iopub.status.busy": "2021-08-17T03:50:53.668467Z",
     "iopub.status.idle": "2021-08-17T03:50:56.636668Z",
     "shell.execute_reply": "2021-08-17T03:50:56.637084Z",
     "shell.execute_reply.started": "2021-08-17T03:47:27.543796Z"
    },
    "papermill": {
     "duration": 3.003891,
     "end_time": "2021-08-17T03:50:56.637249",
     "exception": false,
     "start_time": "2021-08-17T03:50:53.633358",
     "status": "completed"
    },
    "tags": []
   },
   "outputs": [
    {
     "data": {
      "text/html": [
       "<div>\n",
       "<style scoped>\n",
       "    .dataframe tbody tr th:only-of-type {\n",
       "        vertical-align: middle;\n",
       "    }\n",
       "\n",
       "    .dataframe tbody tr th {\n",
       "        vertical-align: top;\n",
       "    }\n",
       "\n",
       "    .dataframe thead th {\n",
       "        text-align: right;\n",
       "    }\n",
       "</style>\n",
       "<table border=\"1\" class=\"dataframe\">\n",
       "  <thead>\n",
       "    <tr style=\"text-align: right;\">\n",
       "      <th></th>\n",
       "      <th>label</th>\n",
       "      <th>pixel0</th>\n",
       "      <th>pixel1</th>\n",
       "      <th>pixel2</th>\n",
       "      <th>pixel3</th>\n",
       "      <th>pixel4</th>\n",
       "      <th>pixel5</th>\n",
       "      <th>pixel6</th>\n",
       "      <th>pixel7</th>\n",
       "      <th>pixel8</th>\n",
       "      <th>...</th>\n",
       "      <th>pixel774</th>\n",
       "      <th>pixel775</th>\n",
       "      <th>pixel776</th>\n",
       "      <th>pixel777</th>\n",
       "      <th>pixel778</th>\n",
       "      <th>pixel779</th>\n",
       "      <th>pixel780</th>\n",
       "      <th>pixel781</th>\n",
       "      <th>pixel782</th>\n",
       "      <th>pixel783</th>\n",
       "    </tr>\n",
       "  </thead>\n",
       "  <tbody>\n",
       "    <tr>\n",
       "      <th>0</th>\n",
       "      <td>1</td>\n",
       "      <td>0</td>\n",
       "      <td>0</td>\n",
       "      <td>0</td>\n",
       "      <td>0</td>\n",
       "      <td>0</td>\n",
       "      <td>0</td>\n",
       "      <td>0</td>\n",
       "      <td>0</td>\n",
       "      <td>0</td>\n",
       "      <td>...</td>\n",
       "      <td>0</td>\n",
       "      <td>0</td>\n",
       "      <td>0</td>\n",
       "      <td>0</td>\n",
       "      <td>0</td>\n",
       "      <td>0</td>\n",
       "      <td>0</td>\n",
       "      <td>0</td>\n",
       "      <td>0</td>\n",
       "      <td>0</td>\n",
       "    </tr>\n",
       "    <tr>\n",
       "      <th>1</th>\n",
       "      <td>0</td>\n",
       "      <td>0</td>\n",
       "      <td>0</td>\n",
       "      <td>0</td>\n",
       "      <td>0</td>\n",
       "      <td>0</td>\n",
       "      <td>0</td>\n",
       "      <td>0</td>\n",
       "      <td>0</td>\n",
       "      <td>0</td>\n",
       "      <td>...</td>\n",
       "      <td>0</td>\n",
       "      <td>0</td>\n",
       "      <td>0</td>\n",
       "      <td>0</td>\n",
       "      <td>0</td>\n",
       "      <td>0</td>\n",
       "      <td>0</td>\n",
       "      <td>0</td>\n",
       "      <td>0</td>\n",
       "      <td>0</td>\n",
       "    </tr>\n",
       "    <tr>\n",
       "      <th>2</th>\n",
       "      <td>1</td>\n",
       "      <td>0</td>\n",
       "      <td>0</td>\n",
       "      <td>0</td>\n",
       "      <td>0</td>\n",
       "      <td>0</td>\n",
       "      <td>0</td>\n",
       "      <td>0</td>\n",
       "      <td>0</td>\n",
       "      <td>0</td>\n",
       "      <td>...</td>\n",
       "      <td>0</td>\n",
       "      <td>0</td>\n",
       "      <td>0</td>\n",
       "      <td>0</td>\n",
       "      <td>0</td>\n",
       "      <td>0</td>\n",
       "      <td>0</td>\n",
       "      <td>0</td>\n",
       "      <td>0</td>\n",
       "      <td>0</td>\n",
       "    </tr>\n",
       "    <tr>\n",
       "      <th>3</th>\n",
       "      <td>4</td>\n",
       "      <td>0</td>\n",
       "      <td>0</td>\n",
       "      <td>0</td>\n",
       "      <td>0</td>\n",
       "      <td>0</td>\n",
       "      <td>0</td>\n",
       "      <td>0</td>\n",
       "      <td>0</td>\n",
       "      <td>0</td>\n",
       "      <td>...</td>\n",
       "      <td>0</td>\n",
       "      <td>0</td>\n",
       "      <td>0</td>\n",
       "      <td>0</td>\n",
       "      <td>0</td>\n",
       "      <td>0</td>\n",
       "      <td>0</td>\n",
       "      <td>0</td>\n",
       "      <td>0</td>\n",
       "      <td>0</td>\n",
       "    </tr>\n",
       "    <tr>\n",
       "      <th>4</th>\n",
       "      <td>0</td>\n",
       "      <td>0</td>\n",
       "      <td>0</td>\n",
       "      <td>0</td>\n",
       "      <td>0</td>\n",
       "      <td>0</td>\n",
       "      <td>0</td>\n",
       "      <td>0</td>\n",
       "      <td>0</td>\n",
       "      <td>0</td>\n",
       "      <td>...</td>\n",
       "      <td>0</td>\n",
       "      <td>0</td>\n",
       "      <td>0</td>\n",
       "      <td>0</td>\n",
       "      <td>0</td>\n",
       "      <td>0</td>\n",
       "      <td>0</td>\n",
       "      <td>0</td>\n",
       "      <td>0</td>\n",
       "      <td>0</td>\n",
       "    </tr>\n",
       "    <tr>\n",
       "      <th>...</th>\n",
       "      <td>...</td>\n",
       "      <td>...</td>\n",
       "      <td>...</td>\n",
       "      <td>...</td>\n",
       "      <td>...</td>\n",
       "      <td>...</td>\n",
       "      <td>...</td>\n",
       "      <td>...</td>\n",
       "      <td>...</td>\n",
       "      <td>...</td>\n",
       "      <td>...</td>\n",
       "      <td>...</td>\n",
       "      <td>...</td>\n",
       "      <td>...</td>\n",
       "      <td>...</td>\n",
       "      <td>...</td>\n",
       "      <td>...</td>\n",
       "      <td>...</td>\n",
       "      <td>...</td>\n",
       "      <td>...</td>\n",
       "      <td>...</td>\n",
       "    </tr>\n",
       "    <tr>\n",
       "      <th>41995</th>\n",
       "      <td>0</td>\n",
       "      <td>0</td>\n",
       "      <td>0</td>\n",
       "      <td>0</td>\n",
       "      <td>0</td>\n",
       "      <td>0</td>\n",
       "      <td>0</td>\n",
       "      <td>0</td>\n",
       "      <td>0</td>\n",
       "      <td>0</td>\n",
       "      <td>...</td>\n",
       "      <td>0</td>\n",
       "      <td>0</td>\n",
       "      <td>0</td>\n",
       "      <td>0</td>\n",
       "      <td>0</td>\n",
       "      <td>0</td>\n",
       "      <td>0</td>\n",
       "      <td>0</td>\n",
       "      <td>0</td>\n",
       "      <td>0</td>\n",
       "    </tr>\n",
       "    <tr>\n",
       "      <th>41996</th>\n",
       "      <td>1</td>\n",
       "      <td>0</td>\n",
       "      <td>0</td>\n",
       "      <td>0</td>\n",
       "      <td>0</td>\n",
       "      <td>0</td>\n",
       "      <td>0</td>\n",
       "      <td>0</td>\n",
       "      <td>0</td>\n",
       "      <td>0</td>\n",
       "      <td>...</td>\n",
       "      <td>0</td>\n",
       "      <td>0</td>\n",
       "      <td>0</td>\n",
       "      <td>0</td>\n",
       "      <td>0</td>\n",
       "      <td>0</td>\n",
       "      <td>0</td>\n",
       "      <td>0</td>\n",
       "      <td>0</td>\n",
       "      <td>0</td>\n",
       "    </tr>\n",
       "    <tr>\n",
       "      <th>41997</th>\n",
       "      <td>7</td>\n",
       "      <td>0</td>\n",
       "      <td>0</td>\n",
       "      <td>0</td>\n",
       "      <td>0</td>\n",
       "      <td>0</td>\n",
       "      <td>0</td>\n",
       "      <td>0</td>\n",
       "      <td>0</td>\n",
       "      <td>0</td>\n",
       "      <td>...</td>\n",
       "      <td>0</td>\n",
       "      <td>0</td>\n",
       "      <td>0</td>\n",
       "      <td>0</td>\n",
       "      <td>0</td>\n",
       "      <td>0</td>\n",
       "      <td>0</td>\n",
       "      <td>0</td>\n",
       "      <td>0</td>\n",
       "      <td>0</td>\n",
       "    </tr>\n",
       "    <tr>\n",
       "      <th>41998</th>\n",
       "      <td>6</td>\n",
       "      <td>0</td>\n",
       "      <td>0</td>\n",
       "      <td>0</td>\n",
       "      <td>0</td>\n",
       "      <td>0</td>\n",
       "      <td>0</td>\n",
       "      <td>0</td>\n",
       "      <td>0</td>\n",
       "      <td>0</td>\n",
       "      <td>...</td>\n",
       "      <td>0</td>\n",
       "      <td>0</td>\n",
       "      <td>0</td>\n",
       "      <td>0</td>\n",
       "      <td>0</td>\n",
       "      <td>0</td>\n",
       "      <td>0</td>\n",
       "      <td>0</td>\n",
       "      <td>0</td>\n",
       "      <td>0</td>\n",
       "    </tr>\n",
       "    <tr>\n",
       "      <th>41999</th>\n",
       "      <td>9</td>\n",
       "      <td>0</td>\n",
       "      <td>0</td>\n",
       "      <td>0</td>\n",
       "      <td>0</td>\n",
       "      <td>0</td>\n",
       "      <td>0</td>\n",
       "      <td>0</td>\n",
       "      <td>0</td>\n",
       "      <td>0</td>\n",
       "      <td>...</td>\n",
       "      <td>0</td>\n",
       "      <td>0</td>\n",
       "      <td>0</td>\n",
       "      <td>0</td>\n",
       "      <td>0</td>\n",
       "      <td>0</td>\n",
       "      <td>0</td>\n",
       "      <td>0</td>\n",
       "      <td>0</td>\n",
       "      <td>0</td>\n",
       "    </tr>\n",
       "  </tbody>\n",
       "</table>\n",
       "<p>42000 rows × 785 columns</p>\n",
       "</div>"
      ],
      "text/plain": [
       "       label  pixel0  pixel1  pixel2  pixel3  pixel4  pixel5  pixel6  pixel7  \\\n",
       "0          1       0       0       0       0       0       0       0       0   \n",
       "1          0       0       0       0       0       0       0       0       0   \n",
       "2          1       0       0       0       0       0       0       0       0   \n",
       "3          4       0       0       0       0       0       0       0       0   \n",
       "4          0       0       0       0       0       0       0       0       0   \n",
       "...      ...     ...     ...     ...     ...     ...     ...     ...     ...   \n",
       "41995      0       0       0       0       0       0       0       0       0   \n",
       "41996      1       0       0       0       0       0       0       0       0   \n",
       "41997      7       0       0       0       0       0       0       0       0   \n",
       "41998      6       0       0       0       0       0       0       0       0   \n",
       "41999      9       0       0       0       0       0       0       0       0   \n",
       "\n",
       "       pixel8  ...  pixel774  pixel775  pixel776  pixel777  pixel778  \\\n",
       "0           0  ...         0         0         0         0         0   \n",
       "1           0  ...         0         0         0         0         0   \n",
       "2           0  ...         0         0         0         0         0   \n",
       "3           0  ...         0         0         0         0         0   \n",
       "4           0  ...         0         0         0         0         0   \n",
       "...       ...  ...       ...       ...       ...       ...       ...   \n",
       "41995       0  ...         0         0         0         0         0   \n",
       "41996       0  ...         0         0         0         0         0   \n",
       "41997       0  ...         0         0         0         0         0   \n",
       "41998       0  ...         0         0         0         0         0   \n",
       "41999       0  ...         0         0         0         0         0   \n",
       "\n",
       "       pixel779  pixel780  pixel781  pixel782  pixel783  \n",
       "0             0         0         0         0         0  \n",
       "1             0         0         0         0         0  \n",
       "2             0         0         0         0         0  \n",
       "3             0         0         0         0         0  \n",
       "4             0         0         0         0         0  \n",
       "...         ...       ...       ...       ...       ...  \n",
       "41995         0         0         0         0         0  \n",
       "41996         0         0         0         0         0  \n",
       "41997         0         0         0         0         0  \n",
       "41998         0         0         0         0         0  \n",
       "41999         0         0         0         0         0  \n",
       "\n",
       "[42000 rows x 785 columns]"
      ]
     },
     "execution_count": 3,
     "metadata": {},
     "output_type": "execute_result"
    }
   ],
   "source": [
    "train = pd.read_csv(\"/kaggle/input/digit-recognizer/train.csv\")\n",
    "train"
   ]
  },
  {
   "cell_type": "code",
   "execution_count": 4,
   "id": "8ea0352c",
   "metadata": {
    "execution": {
     "iopub.execute_input": "2021-08-17T03:50:56.706406Z",
     "iopub.status.busy": "2021-08-17T03:50:56.705911Z",
     "iopub.status.idle": "2021-08-17T03:50:56.711420Z",
     "shell.execute_reply": "2021-08-17T03:50:56.711011Z",
     "shell.execute_reply.started": "2021-08-17T03:47:29.943341Z"
    },
    "papermill": {
     "duration": 0.041422,
     "end_time": "2021-08-17T03:50:56.711531",
     "exception": false,
     "start_time": "2021-08-17T03:50:56.670109",
     "status": "completed"
    },
    "tags": []
   },
   "outputs": [
    {
     "data": {
      "text/plain": [
       "(42000, 785)"
      ]
     },
     "execution_count": 4,
     "metadata": {},
     "output_type": "execute_result"
    }
   ],
   "source": [
    "train.shape"
   ]
  },
  {
   "cell_type": "code",
   "execution_count": 5,
   "id": "a3656811",
   "metadata": {
    "execution": {
     "iopub.execute_input": "2021-08-17T03:50:56.781110Z",
     "iopub.status.busy": "2021-08-17T03:50:56.779966Z",
     "iopub.status.idle": "2021-08-17T03:50:56.825451Z",
     "shell.execute_reply": "2021-08-17T03:50:56.825837Z",
     "shell.execute_reply.started": "2021-08-17T03:47:29.951993Z"
    },
    "papermill": {
     "duration": 0.081927,
     "end_time": "2021-08-17T03:50:56.825966",
     "exception": false,
     "start_time": "2021-08-17T03:50:56.744039",
     "status": "completed"
    },
    "tags": []
   },
   "outputs": [
    {
     "data": {
      "text/plain": [
       "label       0\n",
       "pixel0      0\n",
       "pixel1      0\n",
       "pixel2      0\n",
       "pixel3      0\n",
       "           ..\n",
       "pixel779    0\n",
       "pixel780    0\n",
       "pixel781    0\n",
       "pixel782    0\n",
       "pixel783    0\n",
       "Length: 785, dtype: int64"
      ]
     },
     "execution_count": 5,
     "metadata": {},
     "output_type": "execute_result"
    }
   ],
   "source": [
    "train.isnull().sum()"
   ]
  },
  {
   "cell_type": "markdown",
   "id": "1c388f7a",
   "metadata": {
    "papermill": {
     "duration": 0.036548,
     "end_time": "2021-08-17T03:50:56.896732",
     "exception": false,
     "start_time": "2021-08-17T03:50:56.860184",
     "status": "completed"
    },
    "tags": []
   },
   "source": [
    "## *Exploratory Data Analysis*"
   ]
  },
  {
   "cell_type": "markdown",
   "id": "4b7aa27c",
   "metadata": {
    "papermill": {
     "duration": 0.034116,
     "end_time": "2021-08-17T03:50:56.967012",
     "exception": false,
     "start_time": "2021-08-17T03:50:56.932896",
     "status": "completed"
    },
    "tags": []
   },
   "source": [
    "#### *Plot shows the Frequuency of each digit appearing in the Target  column of Train data*"
   ]
  },
  {
   "cell_type": "code",
   "execution_count": 6,
   "id": "649f4769",
   "metadata": {
    "execution": {
     "iopub.execute_input": "2021-08-17T03:50:57.048843Z",
     "iopub.status.busy": "2021-08-17T03:50:57.048244Z",
     "iopub.status.idle": "2021-08-17T03:50:57.245157Z",
     "shell.execute_reply": "2021-08-17T03:50:57.244745Z",
     "shell.execute_reply.started": "2021-08-17T03:47:30.005207Z"
    },
    "papermill": {
     "duration": 0.241446,
     "end_time": "2021-08-17T03:50:57.245283",
     "exception": false,
     "start_time": "2021-08-17T03:50:57.003837",
     "status": "completed"
    },
    "tags": []
   },
   "outputs": [
    {
     "data": {
      "text/plain": [
       "<AxesSubplot:xlabel='label', ylabel='count'>"
      ]
     },
     "execution_count": 6,
     "metadata": {},
     "output_type": "execute_result"
    },
    {
     "data": {
      "image/png": "[encoded data removed]",
      "text/plain": [
       "<Figure size 720x432 with 1 Axes>"
      ]
     },
     "metadata": {
      "needs_background": "light"
     },
     "output_type": "display_data"
    }
   ],
   "source": [
    "plt.figure(figsize = (10,6))\n",
    "sns.countplot(x=\"label\", data=train)"
   ]
  },
  {
   "cell_type": "code",
   "execution_count": 7,
   "id": "843beb16",
   "metadata": {
    "execution": {
     "iopub.execute_input": "2021-08-17T03:50:57.320784Z",
     "iopub.status.busy": "2021-08-17T03:50:57.320155Z",
     "iopub.status.idle": "2021-08-17T03:50:57.323223Z",
     "shell.execute_reply": "2021-08-17T03:50:57.323628Z",
     "shell.execute_reply.started": "2021-08-17T03:47:30.188556Z"
    },
    "papermill": {
     "duration": 0.044118,
     "end_time": "2021-08-17T03:50:57.323752",
     "exception": false,
     "start_time": "2021-08-17T03:50:57.279634",
     "status": "completed"
    },
    "tags": []
   },
   "outputs": [
    {
     "data": {
      "text/plain": [
       "label       int64\n",
       "pixel0      int64\n",
       "pixel1      int64\n",
       "pixel2      int64\n",
       "pixel3      int64\n",
       "            ...  \n",
       "pixel779    int64\n",
       "pixel780    int64\n",
       "pixel781    int64\n",
       "pixel782    int64\n",
       "pixel783    int64\n",
       "Length: 785, dtype: object"
      ]
     },
     "execution_count": 7,
     "metadata": {},
     "output_type": "execute_result"
    }
   ],
   "source": [
    "train.dtypes"
   ]
  },
  {
   "cell_type": "markdown",
   "id": "d78c3b14",
   "metadata": {
    "papermill": {
     "duration": 0.034362,
     "end_time": "2021-08-17T03:50:57.392259",
     "exception": false,
     "start_time": "2021-08-17T03:50:57.357897",
     "status": "completed"
    },
    "tags": []
   },
   "source": [
    "#### *Features in the Train Data*"
   ]
  },
  {
   "cell_type": "code",
   "execution_count": 8,
   "id": "44deb926",
   "metadata": {
    "execution": {
     "iopub.execute_input": "2021-08-17T03:50:57.546287Z",
     "iopub.status.busy": "2021-08-17T03:50:57.545281Z",
     "iopub.status.idle": "2021-08-17T03:50:57.567353Z",
     "shell.execute_reply": "2021-08-17T03:50:57.567856Z",
     "shell.execute_reply.started": "2021-08-17T03:47:30.198375Z"
    },
    "papermill": {
     "duration": 0.141703,
     "end_time": "2021-08-17T03:50:57.568021",
     "exception": false,
     "start_time": "2021-08-17T03:50:57.426318",
     "status": "completed"
    },
    "tags": []
   },
   "outputs": [
    {
     "data": {
      "text/html": [
       "<div>\n",
       "<style scoped>\n",
       "    .dataframe tbody tr th:only-of-type {\n",
       "        vertical-align: middle;\n",
       "    }\n",
       "\n",
       "    .dataframe tbody tr th {\n",
       "        vertical-align: top;\n",
       "    }\n",
       "\n",
       "    .dataframe thead th {\n",
       "        text-align: right;\n",
       "    }\n",
       "</style>\n",
       "<table border=\"1\" class=\"dataframe\">\n",
       "  <thead>\n",
       "    <tr style=\"text-align: right;\">\n",
       "      <th></th>\n",
       "      <th>pixel0</th>\n",
       "      <th>pixel1</th>\n",
       "      <th>pixel2</th>\n",
       "      <th>pixel3</th>\n",
       "      <th>pixel4</th>\n",
       "      <th>pixel5</th>\n",
       "      <th>pixel6</th>\n",
       "      <th>pixel7</th>\n",
       "      <th>pixel8</th>\n",
       "      <th>pixel9</th>\n",
       "      <th>...</th>\n",
       "      <th>pixel774</th>\n",
       "      <th>pixel775</th>\n",
       "      <th>pixel776</th>\n",
       "      <th>pixel777</th>\n",
       "      <th>pixel778</th>\n",
       "      <th>pixel779</th>\n",
       "      <th>pixel780</th>\n",
       "      <th>pixel781</th>\n",
       "      <th>pixel782</th>\n",
       "      <th>pixel783</th>\n",
       "    </tr>\n",
       "  </thead>\n",
       "  <tbody>\n",
       "    <tr>\n",
       "      <th>0</th>\n",
       "      <td>0</td>\n",
       "      <td>0</td>\n",
       "      <td>0</td>\n",
       "      <td>0</td>\n",
       "      <td>0</td>\n",
       "      <td>0</td>\n",
       "      <td>0</td>\n",
       "      <td>0</td>\n",
       "      <td>0</td>\n",
       "      <td>0</td>\n",
       "      <td>...</td>\n",
       "      <td>0</td>\n",
       "      <td>0</td>\n",
       "      <td>0</td>\n",
       "      <td>0</td>\n",
       "      <td>0</td>\n",
       "      <td>0</td>\n",
       "      <td>0</td>\n",
       "      <td>0</td>\n",
       "      <td>0</td>\n",
       "      <td>0</td>\n",
       "    </tr>\n",
       "    <tr>\n",
       "      <th>1</th>\n",
       "      <td>0</td>\n",
       "      <td>0</td>\n",
       "      <td>0</td>\n",
       "      <td>0</td>\n",
       "      <td>0</td>\n",
       "      <td>0</td>\n",
       "      <td>0</td>\n",
       "      <td>0</td>\n",
       "      <td>0</td>\n",
       "      <td>0</td>\n",
       "      <td>...</td>\n",
       "      <td>0</td>\n",
       "      <td>0</td>\n",
       "      <td>0</td>\n",
       "      <td>0</td>\n",
       "      <td>0</td>\n",
       "      <td>0</td>\n",
       "      <td>0</td>\n",
       "      <td>0</td>\n",
       "      <td>0</td>\n",
       "      <td>0</td>\n",
       "    </tr>\n",
       "    <tr>\n",
       "      <th>2</th>\n",
       "      <td>0</td>\n",
       "      <td>0</td>\n",
       "      <td>0</td>\n",
       "      <td>0</td>\n",
       "      <td>0</td>\n",
       "      <td>0</td>\n",
       "      <td>0</td>\n",
       "      <td>0</td>\n",
       "      <td>0</td>\n",
       "      <td>0</td>\n",
       "      <td>...</td>\n",
       "      <td>0</td>\n",
       "      <td>0</td>\n",
       "      <td>0</td>\n",
       "      <td>0</td>\n",
       "      <td>0</td>\n",
       "      <td>0</td>\n",
       "      <td>0</td>\n",
       "      <td>0</td>\n",
       "      <td>0</td>\n",
       "      <td>0</td>\n",
       "    </tr>\n",
       "    <tr>\n",
       "      <th>3</th>\n",
       "      <td>0</td>\n",
       "      <td>0</td>\n",
       "      <td>0</td>\n",
       "      <td>0</td>\n",
       "      <td>0</td>\n",
       "      <td>0</td>\n",
       "      <td>0</td>\n",
       "      <td>0</td>\n",
       "      <td>0</td>\n",
       "      <td>0</td>\n",
       "      <td>...</td>\n",
       "      <td>0</td>\n",
       "      <td>0</td>\n",
       "      <td>0</td>\n",
       "      <td>0</td>\n",
       "      <td>0</td>\n",
       "      <td>0</td>\n",
       "      <td>0</td>\n",
       "      <td>0</td>\n",
       "      <td>0</td>\n",
       "      <td>0</td>\n",
       "    </tr>\n",
       "    <tr>\n",
       "      <th>4</th>\n",
       "      <td>0</td>\n",
       "      <td>0</td>\n",
       "      <td>0</td>\n",
       "      <td>0</td>\n",
       "      <td>0</td>\n",
       "      <td>0</td>\n",
       "      <td>0</td>\n",
       "      <td>0</td>\n",
       "      <td>0</td>\n",
       "      <td>0</td>\n",
       "      <td>...</td>\n",
       "      <td>0</td>\n",
       "      <td>0</td>\n",
       "      <td>0</td>\n",
       "      <td>0</td>\n",
       "      <td>0</td>\n",
       "      <td>0</td>\n",
       "      <td>0</td>\n",
       "      <td>0</td>\n",
       "      <td>0</td>\n",
       "      <td>0</td>\n",
       "    </tr>\n",
       "    <tr>\n",
       "      <th>...</th>\n",
       "      <td>...</td>\n",
       "      <td>...</td>\n",
       "      <td>...</td>\n",
       "      <td>...</td>\n",
       "      <td>...</td>\n",
       "      <td>...</td>\n",
       "      <td>...</td>\n",
       "      <td>...</td>\n",
       "      <td>...</td>\n",
       "      <td>...</td>\n",
       "      <td>...</td>\n",
       "      <td>...</td>\n",
       "      <td>...</td>\n",
       "      <td>...</td>\n",
       "      <td>...</td>\n",
       "      <td>...</td>\n",
       "      <td>...</td>\n",
       "      <td>...</td>\n",
       "      <td>...</td>\n",
       "      <td>...</td>\n",
       "      <td>...</td>\n",
       "    </tr>\n",
       "    <tr>\n",
       "      <th>41995</th>\n",
       "      <td>0</td>\n",
       "      <td>0</td>\n",
       "      <td>0</td>\n",
       "      <td>0</td>\n",
       "      <td>0</td>\n",
       "      <td>0</td>\n",
       "      <td>0</td>\n",
       "      <td>0</td>\n",
       "      <td>0</td>\n",
       "      <td>0</td>\n",
       "      <td>...</td>\n",
       "      <td>0</td>\n",
       "      <td>0</td>\n",
       "      <td>0</td>\n",
       "      <td>0</td>\n",
       "      <td>0</td>\n",
       "      <td>0</td>\n",
       "      <td>0</td>\n",
       "      <td>0</td>\n",
       "      <td>0</td>\n",
       "      <td>0</td>\n",
       "    </tr>\n",
       "    <tr>\n",
       "      <th>41996</th>\n",
       "      <td>0</td>\n",
       "      <td>0</td>\n",
       "      <td>0</td>\n",
       "      <td>0</td>\n",
       "      <td>0</td>\n",
       "      <td>0</td>\n",
       "      <td>0</td>\n",
       "      <td>0</td>\n",
       "      <td>0</td>\n",
       "      <td>0</td>\n",
       "      <td>...</td>\n",
       "      <td>0</td>\n",
       "      <td>0</td>\n",
       "      <td>0</td>\n",
       "      <td>0</td>\n",
       "      <td>0</td>\n",
       "      <td>0</td>\n",
       "      <td>0</td>\n",
       "      <td>0</td>\n",
       "      <td>0</td>\n",
       "      <td>0</td>\n",
       "    </tr>\n",
       "    <tr>\n",
       "      <th>41997</th>\n",
       "      <td>0</td>\n",
       "      <td>0</td>\n",
       "      <td>0</td>\n",
       "      <td>0</td>\n",
       "      <td>0</td>\n",
       "      <td>0</td>\n",
       "      <td>0</td>\n",
       "      <td>0</td>\n",
       "      <td>0</td>\n",
       "      <td>0</td>\n",
       "      <td>...</td>\n",
       "      <td>0</td>\n",
       "      <td>0</td>\n",
       "      <td>0</td>\n",
       "      <td>0</td>\n",
       "      <td>0</td>\n",
       "      <td>0</td>\n",
       "      <td>0</td>\n",
       "      <td>0</td>\n",
       "      <td>0</td>\n",
       "      <td>0</td>\n",
       "    </tr>\n",
       "    <tr>\n",
       "      <th>41998</th>\n",
       "      <td>0</td>\n",
       "      <td>0</td>\n",
       "      <td>0</td>\n",
       "      <td>0</td>\n",
       "      <td>0</td>\n",
       "      <td>0</td>\n",
       "      <td>0</td>\n",
       "      <td>0</td>\n",
       "      <td>0</td>\n",
       "      <td>0</td>\n",
       "      <td>...</td>\n",
       "      <td>0</td>\n",
       "      <td>0</td>\n",
       "      <td>0</td>\n",
       "      <td>0</td>\n",
       "      <td>0</td>\n",
       "      <td>0</td>\n",
       "      <td>0</td>\n",
       "      <td>0</td>\n",
       "      <td>0</td>\n",
       "      <td>0</td>\n",
       "    </tr>\n",
       "    <tr>\n",
       "      <th>41999</th>\n",
       "      <td>0</td>\n",
       "      <td>0</td>\n",
       "      <td>0</td>\n",
       "      <td>0</td>\n",
       "      <td>0</td>\n",
       "      <td>0</td>\n",
       "      <td>0</td>\n",
       "      <td>0</td>\n",
       "      <td>0</td>\n",
       "      <td>0</td>\n",
       "      <td>...</td>\n",
       "      <td>0</td>\n",
       "      <td>0</td>\n",
       "      <td>0</td>\n",
       "      <td>0</td>\n",
       "      <td>0</td>\n",
       "      <td>0</td>\n",
       "      <td>0</td>\n",
       "      <td>0</td>\n",
       "      <td>0</td>\n",
       "      <td>0</td>\n",
       "    </tr>\n",
       "  </tbody>\n",
       "</table>\n",
       "<p>42000 rows × 784 columns</p>\n",
       "</div>"
      ],
      "text/plain": [
       "       pixel0  pixel1  pixel2  pixel3  pixel4  pixel5  pixel6  pixel7  pixel8  \\\n",
       "0           0       0       0       0       0       0       0       0       0   \n",
       "1           0       0       0       0       0       0       0       0       0   \n",
       "2           0       0       0       0       0       0       0       0       0   \n",
       "3           0       0       0       0       0       0       0       0       0   \n",
       "4           0       0       0       0       0       0       0       0       0   \n",
       "...       ...     ...     ...     ...     ...     ...     ...     ...     ...   \n",
       "41995       0       0       0       0       0       0       0       0       0   \n",
       "41996       0       0       0       0       0       0       0       0       0   \n",
       "41997       0       0       0       0       0       0       0       0       0   \n",
       "41998       0       0       0       0       0       0       0       0       0   \n",
       "41999       0       0       0       0       0       0       0       0       0   \n",
       "\n",
       "       pixel9  ...  pixel774  pixel775  pixel776  pixel777  pixel778  \\\n",
       "0           0  ...         0         0         0         0         0   \n",
       "1           0  ...         0         0         0         0         0   \n",
       "2           0  ...         0         0         0         0         0   \n",
       "3           0  ...         0         0         0         0         0   \n",
       "4           0  ...         0         0         0         0         0   \n",
       "...       ...  ...       ...       ...       ...       ...       ...   \n",
       "41995       0  ...         0         0         0         0         0   \n",
       "41996       0  ...         0         0         0         0         0   \n",
       "41997       0  ...         0         0         0         0         0   \n",
       "41998       0  ...         0         0         0         0         0   \n",
       "41999       0  ...         0         0         0         0         0   \n",
       "\n",
       "       pixel779  pixel780  pixel781  pixel782  pixel783  \n",
       "0             0         0         0         0         0  \n",
       "1             0         0         0         0         0  \n",
       "2             0         0         0         0         0  \n",
       "3             0         0         0         0         0  \n",
       "4             0         0         0         0         0  \n",
       "...         ...       ...       ...       ...       ...  \n",
       "41995         0         0         0         0         0  \n",
       "41996         0         0         0         0         0  \n",
       "41997         0         0         0         0         0  \n",
       "41998         0         0         0         0         0  \n",
       "41999         0         0         0         0         0  \n",
       "\n",
       "[42000 rows x 784 columns]"
      ]
     },
     "execution_count": 8,
     "metadata": {},
     "output_type": "execute_result"
    }
   ],
   "source": [
    "train_features = train.drop(\"label\", axis=1)\n",
    "type(train_features)\n",
    "train_features"
   ]
  },
  {
   "cell_type": "code",
   "execution_count": null,
   "id": "f1b2b65e",
   "metadata": {
    "papermill": {
     "duration": 0.035596,
     "end_time": "2021-08-17T03:50:57.641207",
     "exception": false,
     "start_time": "2021-08-17T03:50:57.605611",
     "status": "completed"
    },
    "tags": []
   },
   "outputs": [],
   "source": []
  },
  {
   "cell_type": "markdown",
   "id": "844b94d8",
   "metadata": {
    "papermill": {
     "duration": 0.035704,
     "end_time": "2021-08-17T03:50:57.717112",
     "exception": false,
     "start_time": "2021-08-17T03:50:57.681408",
     "status": "completed"
    },
    "tags": []
   },
   "source": [
    "#### *Target in the Train Data*"
   ]
  },
  {
   "cell_type": "code",
   "execution_count": 9,
   "id": "c90e988c",
   "metadata": {
    "execution": {
     "iopub.execute_input": "2021-08-17T03:50:57.798617Z",
     "iopub.status.busy": "2021-08-17T03:50:57.797997Z",
     "iopub.status.idle": "2021-08-17T03:50:57.801056Z",
     "shell.execute_reply": "2021-08-17T03:50:57.801456Z",
     "shell.execute_reply.started": "2021-08-17T03:47:30.307480Z"
    },
    "papermill": {
     "duration": 0.049402,
     "end_time": "2021-08-17T03:50:57.801598",
     "exception": false,
     "start_time": "2021-08-17T03:50:57.752196",
     "status": "completed"
    },
    "tags": []
   },
   "outputs": [
    {
     "data": {
      "text/plain": [
       "(42000,)"
      ]
     },
     "execution_count": 9,
     "metadata": {},
     "output_type": "execute_result"
    }
   ],
   "source": [
    "train_target = train[\"label\"]\n",
    "train_target.shape"
   ]
  },
  {
   "cell_type": "markdown",
   "id": "a02afea1",
   "metadata": {
    "papermill": {
     "duration": 0.037756,
     "end_time": "2021-08-17T03:50:57.875710",
     "exception": false,
     "start_time": "2021-08-17T03:50:57.837954",
     "status": "completed"
    },
    "tags": []
   },
   "source": [
    "#### *Splitting the train Data into Train set & Validation set to check for the accuracy & loss after training the model*"
   ]
  },
  {
   "cell_type": "code",
   "execution_count": 10,
   "id": "c9a01ab7",
   "metadata": {
    "execution": {
     "iopub.execute_input": "2021-08-17T03:50:57.955039Z",
     "iopub.status.busy": "2021-08-17T03:50:57.954395Z",
     "iopub.status.idle": "2021-08-17T03:50:58.329213Z",
     "shell.execute_reply": "2021-08-17T03:50:58.328803Z",
     "shell.execute_reply.started": "2021-08-17T03:47:30.317472Z"
    },
    "papermill": {
     "duration": 0.414903,
     "end_time": "2021-08-17T03:50:58.329344",
     "exception": false,
     "start_time": "2021-08-17T03:50:57.914441",
     "status": "completed"
    },
    "tags": []
   },
   "outputs": [
    {
     "data": {
      "text/plain": [
       "(31500, 784)"
      ]
     },
     "execution_count": 10,
     "metadata": {},
     "output_type": "execute_result"
    }
   ],
   "source": [
    "from sklearn.model_selection import train_test_split \n",
    "X_train, X_val, y_train, y_val = train_test_split(train_features, train_target, test_size = 0.25, random_state = 42)\n",
    "X_train.shape"
   ]
  },
  {
   "cell_type": "markdown",
   "id": "bc2b9031",
   "metadata": {
    "papermill": {
     "duration": 0.038073,
     "end_time": "2021-08-17T03:50:58.404211",
     "exception": false,
     "start_time": "2021-08-17T03:50:58.366138",
     "status": "completed"
    },
    "tags": []
   },
   "source": [
    "## *Data Preprocessing*"
   ]
  },
  {
   "cell_type": "markdown",
   "id": "a4fc70b2",
   "metadata": {
    "papermill": {
     "duration": 0.036049,
     "end_time": "2021-08-17T03:50:58.479383",
     "exception": false,
     "start_time": "2021-08-17T03:50:58.443334",
     "status": "completed"
    },
    "tags": []
   },
   "source": [
    "#### *Scaling X_train & X_val between 0 , 1. Each row has 784 pixel values between 0 & 255, so scale to use them in Keras layers*"
   ]
  },
  {
   "cell_type": "code",
   "execution_count": 11,
   "id": "6023c898",
   "metadata": {
    "execution": {
     "iopub.execute_input": "2021-08-17T03:50:58.562350Z",
     "iopub.status.busy": "2021-08-17T03:50:58.561709Z",
     "iopub.status.idle": "2021-08-17T03:50:58.679676Z",
     "shell.execute_reply": "2021-08-17T03:50:58.679202Z",
     "shell.execute_reply.started": "2021-08-17T03:47:30.574401Z"
    },
    "papermill": {
     "duration": 0.161389,
     "end_time": "2021-08-17T03:50:58.679818",
     "exception": false,
     "start_time": "2021-08-17T03:50:58.518429",
     "status": "completed"
    },
    "tags": []
   },
   "outputs": [],
   "source": [
    "X_train = X_train / 255.0\n",
    "X_val = X_val / 255.0"
   ]
  },
  {
   "cell_type": "markdown",
   "id": "6725ea70",
   "metadata": {
    "papermill": {
     "duration": 0.041468,
     "end_time": "2021-08-17T03:50:58.758532",
     "exception": false,
     "start_time": "2021-08-17T03:50:58.717064",
     "status": "completed"
    },
    "tags": []
   },
   "source": []
  },
  {
   "cell_type": "markdown",
   "id": "3f0f418e",
   "metadata": {
    "papermill": {
     "duration": 0.037019,
     "end_time": "2021-08-17T03:50:58.831642",
     "exception": false,
     "start_time": "2021-08-17T03:50:58.794623",
     "status": "completed"
    },
    "tags": []
   },
   "source": [
    "#### *Transforming the 2Dimentional array to 1Dimentional array without changing the values*"
   ]
  },
  {
   "cell_type": "code",
   "execution_count": 12,
   "id": "65483d7c",
   "metadata": {
    "execution": {
     "iopub.execute_input": "2021-08-17T03:50:58.914811Z",
     "iopub.status.busy": "2021-08-17T03:50:58.913651Z",
     "iopub.status.idle": "2021-08-17T03:50:58.916860Z",
     "shell.execute_reply": "2021-08-17T03:50:58.917261Z",
     "shell.execute_reply.started": "2021-08-17T03:47:30.683555Z"
    },
    "papermill": {
     "duration": 0.045414,
     "end_time": "2021-08-17T03:50:58.917379",
     "exception": false,
     "start_time": "2021-08-17T03:50:58.871965",
     "status": "completed"
    },
    "tags": []
   },
   "outputs": [
    {
     "data": {
      "text/plain": [
       "array([[0., 0., 0., ..., 0., 0., 0.],\n",
       "       [0., 0., 0., ..., 0., 0., 0.],\n",
       "       [0., 0., 0., ..., 0., 0., 0.],\n",
       "       ...,\n",
       "       [0., 0., 0., ..., 0., 0., 0.],\n",
       "       [0., 0., 0., ..., 0., 0., 0.],\n",
       "       [0., 0., 0., ..., 0., 0., 0.]])"
      ]
     },
     "execution_count": 12,
     "metadata": {},
     "output_type": "execute_result"
    }
   ],
   "source": [
    "X_train_flattened = X_train.to_numpy()\n",
    "X_train_flattened"
   ]
  },
  {
   "cell_type": "code",
   "execution_count": 13,
   "id": "611c3a07",
   "metadata": {
    "execution": {
     "iopub.execute_input": "2021-08-17T03:50:58.999365Z",
     "iopub.status.busy": "2021-08-17T03:50:58.998867Z",
     "iopub.status.idle": "2021-08-17T03:50:59.004419Z",
     "shell.execute_reply": "2021-08-17T03:50:59.004869Z",
     "shell.execute_reply.started": "2021-08-17T03:47:30.696756Z"
    },
    "papermill": {
     "duration": 0.04743,
     "end_time": "2021-08-17T03:50:59.004986",
     "exception": false,
     "start_time": "2021-08-17T03:50:58.957556",
     "status": "completed"
    },
    "tags": []
   },
   "outputs": [
    {
     "data": {
      "text/plain": [
       "(31500, 784)"
      ]
     },
     "execution_count": 13,
     "metadata": {},
     "output_type": "execute_result"
    }
   ],
   "source": [
    "X_train_flattened.shape"
   ]
  },
  {
   "cell_type": "code",
   "execution_count": 14,
   "id": "46f0eebb",
   "metadata": {
    "execution": {
     "iopub.execute_input": "2021-08-17T03:50:59.088105Z",
     "iopub.status.busy": "2021-08-17T03:50:59.087336Z",
     "iopub.status.idle": "2021-08-17T03:50:59.099707Z",
     "shell.execute_reply": "2021-08-17T03:50:59.099267Z",
     "shell.execute_reply.started": "2021-08-17T03:47:30.707574Z"
    },
    "papermill": {
     "duration": 0.057428,
     "end_time": "2021-08-17T03:50:59.099807",
     "exception": false,
     "start_time": "2021-08-17T03:50:59.042379",
     "status": "completed"
    },
    "tags": []
   },
   "outputs": [
    {
     "data": {
      "text/plain": [
       "array([0.        , 0.        , 0.        , 0.        , 0.        ,\n",
       "       0.        , 0.        , 0.        , 0.        , 0.        ,\n",
       "       0.        , 0.        , 0.        , 0.        , 0.        ,\n",
       "       0.        , 0.        , 0.        , 0.        , 0.        ,\n",
       "       0.        , 0.        , 0.        , 0.        , 0.        ,\n",
       "       0.        , 0.        , 0.        , 0.        , 0.        ,\n",
       "       0.        , 0.        , 0.        , 0.        , 0.        ,\n",
       "       0.        , 0.        , 0.        , 0.        , 0.        ,\n",
       "       0.        , 0.        , 0.        , 0.        , 0.        ,\n",
       "       0.        , 0.        , 0.        , 0.        , 0.        ,\n",
       "       0.        , 0.        , 0.        , 0.        , 0.        ,\n",
       "       0.        , 0.        , 0.        , 0.        , 0.        ,\n",
       "       0.        , 0.        , 0.        , 0.        , 0.        ,\n",
       "       0.        , 0.        , 0.        , 0.        , 0.        ,\n",
       "       0.        , 0.        , 0.        , 0.        , 0.        ,\n",
       "       0.        , 0.        , 0.        , 0.        , 0.        ,\n",
       "       0.        , 0.        , 0.        , 0.        , 0.        ,\n",
       "       0.        , 0.        , 0.        , 0.        , 0.        ,\n",
       "       0.        , 0.        , 0.        , 0.        , 0.        ,\n",
       "       0.        , 0.        , 0.        , 0.        , 0.        ,\n",
       "       0.        , 0.        , 0.        , 0.        , 0.        ,\n",
       "       0.        , 0.        , 0.        , 0.        , 0.        ,\n",
       "       0.        , 0.        , 0.        , 0.        , 0.        ,\n",
       "       0.        , 0.        , 0.        , 0.        , 0.        ,\n",
       "       0.        , 0.        , 0.        , 0.        , 0.        ,\n",
       "       0.        , 0.        , 0.        , 0.        , 0.        ,\n",
       "       0.        , 0.        , 0.        , 0.        , 0.        ,\n",
       "       0.        , 0.        , 0.        , 0.        , 0.        ,\n",
       "       0.        , 0.        , 0.        , 0.        , 0.        ,\n",
       "       0.        , 0.        , 0.        , 0.        , 0.        ,\n",
       "       0.        , 0.        , 0.        , 0.        , 0.        ,\n",
       "       0.        , 0.        , 0.        , 0.        , 0.        ,\n",
       "       0.        , 0.        , 0.        , 0.        , 0.        ,\n",
       "       0.        , 0.        , 0.        , 0.        , 0.        ,\n",
       "       0.        , 0.        , 0.        , 0.        , 0.        ,\n",
       "       0.        , 0.        , 0.        , 0.        , 0.        ,\n",
       "       0.        , 0.        , 0.        , 0.        , 0.        ,\n",
       "       0.        , 0.55294118, 0.96470588, 0.27843137, 0.        ,\n",
       "       0.        , 0.        , 0.        , 0.        , 0.        ,\n",
       "       0.        , 0.        , 0.        , 0.        , 0.        ,\n",
       "       0.        , 0.        , 0.        , 0.        , 0.        ,\n",
       "       0.        , 0.        , 0.        , 0.        , 0.        ,\n",
       "       0.        , 0.        , 0.04313725, 0.37254902, 0.99607843,\n",
       "       0.99215686, 0.68235294, 0.        , 0.        , 0.        ,\n",
       "       0.        , 0.        , 0.        , 0.        , 0.        ,\n",
       "       0.        , 0.        , 0.        , 0.        , 0.        ,\n",
       "       0.28627451, 0.07058824, 0.        , 0.        , 0.        ,\n",
       "       0.        , 0.        , 0.        , 0.14509804, 0.42745098,\n",
       "       0.85098039, 0.99215686, 0.99607843, 0.96862745, 0.32941176,\n",
       "       0.        , 0.        , 0.        , 0.        , 0.        ,\n",
       "       0.        , 0.        , 0.        , 0.        , 0.        ,\n",
       "       0.        , 0.        , 0.43529412, 0.98431373, 0.93333333,\n",
       "       0.77254902, 0.59215686, 0.65098039, 0.91764706, 0.91764706,\n",
       "       0.92156863, 0.95294118, 0.99215686, 0.99215686, 0.99215686,\n",
       "       0.99607843, 0.50196078, 0.        , 0.        , 0.        ,\n",
       "       0.        , 0.        , 0.        , 0.        , 0.        ,\n",
       "       0.        , 0.        , 0.        , 0.        , 0.        ,\n",
       "       0.18823529, 0.96078431, 0.99215686, 0.99607843, 0.99215686,\n",
       "       0.99215686, 0.99215686, 0.99215686, 0.99607843, 0.99215686,\n",
       "       0.99215686, 0.99215686, 0.99215686, 0.90588235, 0.09411765,\n",
       "       0.        , 0.        , 0.        , 0.        , 0.        ,\n",
       "       0.        , 0.        , 0.        , 0.        , 0.        ,\n",
       "       0.        , 0.        , 0.        , 0.        , 0.0627451 ,\n",
       "       0.67843137, 0.76862745, 0.76470588, 0.76470588, 0.76470588,\n",
       "       0.76470588, 0.38823529, 0.38431373, 0.80784314, 0.99607843,\n",
       "       0.99607843, 0.76862745, 0.        , 0.        , 0.        ,\n",
       "       0.        , 0.        , 0.        , 0.        , 0.        ,\n",
       "       0.        , 0.        , 0.        , 0.        , 0.        ,\n",
       "       0.        , 0.        , 0.        , 0.        , 0.        ,\n",
       "       0.        , 0.        , 0.        , 0.        , 0.        ,\n",
       "       0.        , 0.68627451, 0.99215686, 0.99215686, 0.44313725,\n",
       "       0.        , 0.        , 0.        , 0.        , 0.        ,\n",
       "       0.        , 0.        , 0.        , 0.        , 0.        ,\n",
       "       0.        , 0.        , 0.        , 0.        , 0.        ,\n",
       "       0.        , 0.        , 0.        , 0.        , 0.        ,\n",
       "       0.        , 0.        , 0.        , 0.        , 0.68627451,\n",
       "       0.99215686, 0.87058824, 0.11764706, 0.        , 0.        ,\n",
       "       0.        , 0.        , 0.        , 0.        , 0.        ,\n",
       "       0.        , 0.        , 0.        , 0.        , 0.        ,\n",
       "       0.        , 0.        , 0.        , 0.        , 0.        ,\n",
       "       0.        , 0.        , 0.        , 0.        , 0.        ,\n",
       "       0.        , 0.0745098 , 0.96862745, 0.99215686, 0.60784314,\n",
       "       0.        , 0.        , 0.        , 0.        , 0.        ,\n",
       "       0.        , 0.        , 0.        , 0.        , 0.        ,\n",
       "       0.        , 0.        , 0.        , 0.        , 0.        ,\n",
       "       0.        , 0.        , 0.        , 0.        , 0.        ,\n",
       "       0.        , 0.        , 0.        , 0.        , 0.51764706,\n",
       "       0.99215686, 0.99215686, 0.4627451 , 0.        , 0.        ,\n",
       "       0.        , 0.        , 0.        , 0.        , 0.        ,\n",
       "       0.        , 0.        , 0.        , 0.        , 0.        ,\n",
       "       0.        , 0.        , 0.        , 0.        , 0.        ,\n",
       "       0.        , 0.        , 0.        , 0.        , 0.        ,\n",
       "       0.        , 0.        , 0.84313725, 0.99607843, 0.95686275,\n",
       "       0.17647059, 0.        , 0.        , 0.        , 0.        ,\n",
       "       0.        , 0.        , 0.        , 0.        , 0.        ,\n",
       "       0.        , 0.        , 0.        , 0.        , 0.        ,\n",
       "       0.        , 0.        , 0.        , 0.        , 0.        ,\n",
       "       0.        , 0.        , 0.        , 0.        , 0.10980392,\n",
       "       0.90980392, 0.99215686, 0.50980392, 0.        , 0.01960784,\n",
       "       0.01176471, 0.        , 0.        , 0.        , 0.        ,\n",
       "       0.        , 0.        , 0.        , 0.        , 0.        ,\n",
       "       0.        , 0.        , 0.        , 0.        , 0.        ,\n",
       "       0.        , 0.        , 0.        , 0.        , 0.        ,\n",
       "       0.        , 0.        , 0.49803922, 0.99215686, 0.99215686,\n",
       "       0.61960784, 0.6       , 0.76078431, 0.29803922, 0.        ,\n",
       "       0.        , 0.        , 0.        , 0.        , 0.        ,\n",
       "       0.        , 0.        , 0.        , 0.        , 0.        ,\n",
       "       0.        , 0.        , 0.        , 0.        , 0.        ,\n",
       "       0.        , 0.        , 0.        , 0.        , 0.        ,\n",
       "       0.96470588, 0.99215686, 0.99215686, 0.99215686, 0.92941176,\n",
       "       0.37254902, 0.01176471, 0.        , 0.        , 0.        ,\n",
       "       0.        , 0.        , 0.        , 0.        , 0.        ,\n",
       "       0.        , 0.        , 0.        , 0.        , 0.        ,\n",
       "       0.        , 0.        , 0.        , 0.        , 0.        ,\n",
       "       0.        , 0.        , 0.        , 0.99607843, 0.99215686,\n",
       "       0.99215686, 0.7254902 , 0.14117647, 0.        , 0.        ,\n",
       "       0.        , 0.        , 0.        , 0.        , 0.        ,\n",
       "       0.        , 0.        , 0.        , 0.        , 0.        ,\n",
       "       0.        , 0.        , 0.        , 0.        , 0.        ,\n",
       "       0.        , 0.        , 0.        , 0.        , 0.        ,\n",
       "       0.23921569, 1.        , 0.99607843, 0.99607843, 0.37254902,\n",
       "       0.        , 0.        , 0.        , 0.        , 0.        ,\n",
       "       0.        , 0.        , 0.        , 0.        , 0.        ,\n",
       "       0.        , 0.        , 0.        , 0.        , 0.        ,\n",
       "       0.        , 0.        , 0.        , 0.        , 0.        ,\n",
       "       0.        , 0.        , 0.        , 0.38431373, 0.99607843,\n",
       "       0.99215686, 0.40784314, 0.01176471, 0.        , 0.        ,\n",
       "       0.        , 0.        , 0.        , 0.        , 0.        ,\n",
       "       0.        , 0.        , 0.        , 0.        , 0.        ,\n",
       "       0.        , 0.        , 0.        , 0.        , 0.        ,\n",
       "       0.        , 0.        , 0.        , 0.        , 0.        ,\n",
       "       0.        , 0.64705882, 0.99607843, 0.96862745, 0.21176471,\n",
       "       0.        , 0.        , 0.        , 0.        , 0.        ,\n",
       "       0.        , 0.        , 0.        , 0.        , 0.        ,\n",
       "       0.        , 0.        , 0.        , 0.        , 0.        ,\n",
       "       0.        , 0.        , 0.        , 0.        , 0.        ,\n",
       "       0.        , 0.        , 0.        , 0.14509804, 0.97254902,\n",
       "       0.99607843, 0.85490196, 0.        , 0.        , 0.        ,\n",
       "       0.        , 0.        , 0.        , 0.        , 0.        ,\n",
       "       0.        , 0.        , 0.        , 0.        , 0.        ,\n",
       "       0.        , 0.        , 0.        , 0.        , 0.        ,\n",
       "       0.        , 0.        , 0.        , 0.        , 0.        ,\n",
       "       0.        , 0.09411765, 0.75686275, 0.90588235, 0.18039216,\n",
       "       0.        , 0.        , 0.        , 0.        , 0.        ,\n",
       "       0.        , 0.        , 0.        , 0.        , 0.        ,\n",
       "       0.        , 0.        , 0.        , 0.        , 0.        ,\n",
       "       0.        , 0.        , 0.        , 0.        , 0.        ,\n",
       "       0.        , 0.        , 0.        , 0.        , 0.        ,\n",
       "       0.        , 0.        , 0.        , 0.        , 0.        ,\n",
       "       0.        , 0.        , 0.        , 0.        , 0.        ,\n",
       "       0.        , 0.        , 0.        , 0.        , 0.        ,\n",
       "       0.        , 0.        , 0.        , 0.        , 0.        ,\n",
       "       0.        , 0.        , 0.        , 0.        , 0.        ,\n",
       "       0.        , 0.        , 0.        , 0.        , 0.        ,\n",
       "       0.        , 0.        , 0.        , 0.        , 0.        ,\n",
       "       0.        , 0.        , 0.        , 0.        , 0.        ,\n",
       "       0.        , 0.        , 0.        , 0.        ])"
      ]
     },
     "execution_count": 14,
     "metadata": {},
     "output_type": "execute_result"
    }
   ],
   "source": [
    "X_train_flattened[0]"
   ]
  },
  {
   "cell_type": "code",
   "execution_count": 15,
   "id": "651b7e39",
   "metadata": {
    "execution": {
     "iopub.execute_input": "2021-08-17T03:50:59.183594Z",
     "iopub.status.busy": "2021-08-17T03:50:59.182915Z",
     "iopub.status.idle": "2021-08-17T03:50:59.185944Z",
     "shell.execute_reply": "2021-08-17T03:50:59.186542Z",
     "shell.execute_reply.started": "2021-08-17T03:47:30.729413Z"
    },
    "papermill": {
     "duration": 0.04949,
     "end_time": "2021-08-17T03:50:59.186694",
     "exception": false,
     "start_time": "2021-08-17T03:50:59.137204",
     "status": "completed"
    },
    "tags": []
   },
   "outputs": [
    {
     "name": "stdout",
     "output_type": "stream",
     "text": [
      "(31500, 28, 28, 1)\n"
     ]
    }
   ],
   "source": [
    "X_train_reshaped = X_train_flattened.reshape(X_train_flattened.shape[0], 28, 28, 1)\n",
    "print(X_train_reshaped.shape)                "
   ]
  },
  {
   "cell_type": "markdown",
   "id": "6dda1337",
   "metadata": {
    "papermill": {
     "duration": 0.038104,
     "end_time": "2021-08-17T03:50:59.262425",
     "exception": false,
     "start_time": "2021-08-17T03:50:59.224321",
     "status": "completed"
    },
    "tags": []
   },
   "source": [
    "#### *Preprocessing Validation Data*"
   ]
  },
  {
   "cell_type": "code",
   "execution_count": 16,
   "id": "774fd2b5",
   "metadata": {
    "execution": {
     "iopub.execute_input": "2021-08-17T03:50:59.347082Z",
     "iopub.status.busy": "2021-08-17T03:50:59.346362Z",
     "iopub.status.idle": "2021-08-17T03:50:59.349860Z",
     "shell.execute_reply": "2021-08-17T03:50:59.349446Z",
     "shell.execute_reply.started": "2021-08-17T03:47:30.736610Z"
    },
    "papermill": {
     "duration": 0.045463,
     "end_time": "2021-08-17T03:50:59.349963",
     "exception": false,
     "start_time": "2021-08-17T03:50:59.304500",
     "status": "completed"
    },
    "tags": []
   },
   "outputs": [
    {
     "data": {
      "text/plain": [
       "array([[0., 0., 0., ..., 0., 0., 0.],\n",
       "       [0., 0., 0., ..., 0., 0., 0.],\n",
       "       [0., 0., 0., ..., 0., 0., 0.],\n",
       "       ...,\n",
       "       [0., 0., 0., ..., 0., 0., 0.],\n",
       "       [0., 0., 0., ..., 0., 0., 0.],\n",
       "       [0., 0., 0., ..., 0., 0., 0.]])"
      ]
     },
     "execution_count": 16,
     "metadata": {},
     "output_type": "execute_result"
    }
   ],
   "source": [
    "X_val_flattened = X_val.to_numpy()\n",
    "X_val_flattened"
   ]
  },
  {
   "cell_type": "code",
   "execution_count": 17,
   "id": "a8c7fc08",
   "metadata": {
    "execution": {
     "iopub.execute_input": "2021-08-17T03:50:59.438305Z",
     "iopub.status.busy": "2021-08-17T03:50:59.437590Z",
     "iopub.status.idle": "2021-08-17T03:50:59.440556Z",
     "shell.execute_reply": "2021-08-17T03:50:59.440954Z",
     "shell.execute_reply.started": "2021-08-17T03:47:30.749762Z"
    },
    "papermill": {
     "duration": 0.045896,
     "end_time": "2021-08-17T03:50:59.441074",
     "exception": false,
     "start_time": "2021-08-17T03:50:59.395178",
     "status": "completed"
    },
    "tags": []
   },
   "outputs": [
    {
     "data": {
      "text/plain": [
       "(10500, 784)"
      ]
     },
     "execution_count": 17,
     "metadata": {},
     "output_type": "execute_result"
    }
   ],
   "source": [
    "X_val_flattened.shape"
   ]
  },
  {
   "cell_type": "code",
   "execution_count": 18,
   "id": "1fc7d028",
   "metadata": {
    "execution": {
     "iopub.execute_input": "2021-08-17T03:50:59.526564Z",
     "iopub.status.busy": "2021-08-17T03:50:59.526025Z",
     "iopub.status.idle": "2021-08-17T03:50:59.528733Z",
     "shell.execute_reply": "2021-08-17T03:50:59.529201Z",
     "shell.execute_reply.started": "2021-08-17T03:47:30.763653Z"
    },
    "papermill": {
     "duration": 0.048953,
     "end_time": "2021-08-17T03:50:59.529330",
     "exception": false,
     "start_time": "2021-08-17T03:50:59.480377",
     "status": "completed"
    },
    "tags": []
   },
   "outputs": [
    {
     "name": "stdout",
     "output_type": "stream",
     "text": [
      "(10500, 28, 28, 1)\n"
     ]
    }
   ],
   "source": [
    "X_val_reshaped = X_val_flattened.reshape(X_val_flattened.shape[0], 28, 28, 1)\n",
    "print(X_val_reshaped.shape)      "
   ]
  },
  {
   "cell_type": "markdown",
   "id": "9f7983fa",
   "metadata": {
    "papermill": {
     "duration": 0.044032,
     "end_time": "2021-08-17T03:50:59.612651",
     "exception": false,
     "start_time": "2021-08-17T03:50:59.568619",
     "status": "completed"
    },
    "tags": []
   },
   "source": [
    "## *Building a Model*"
   ]
  },
  {
   "cell_type": "markdown",
   "id": "3e4ef4ac",
   "metadata": {
    "papermill": {
     "duration": 0.039145,
     "end_time": "2021-08-17T03:50:59.691399",
     "exception": false,
     "start_time": "2021-08-17T03:50:59.652254",
     "status": "completed"
    },
    "tags": []
   },
   "source": [
    "#### *Defining keras layers*"
   ]
  },
  {
   "cell_type": "code",
   "execution_count": 19,
   "id": "f64ae377",
   "metadata": {
    "execution": {
     "iopub.execute_input": "2021-08-17T03:50:59.777694Z",
     "iopub.status.busy": "2021-08-17T03:50:59.777157Z",
     "iopub.status.idle": "2021-08-17T03:51:01.825164Z",
     "shell.execute_reply": "2021-08-17T03:51:01.824358Z",
     "shell.execute_reply.started": "2021-08-17T03:47:30.773497Z"
    },
    "papermill": {
     "duration": 2.091348,
     "end_time": "2021-08-17T03:51:01.825307",
     "exception": false,
     "start_time": "2021-08-17T03:50:59.733959",
     "status": "completed"
    },
    "tags": []
   },
   "outputs": [],
   "source": [
    "from tensorflow import keras\n",
    "from tensorflow.keras import layers\n",
    "model = keras.Sequential([\n",
    "            layers.Conv2D(filters=64, kernel_size=3, activation = 'relu', input_shape = (28, 28, 1), padding='same'),\n",
    "            layers.MaxPool2D(),\n",
    "            layers.Conv2D(filters=128, kernel_size=3, activation = 'relu', padding='same'),\n",
    "            layers.MaxPool2D(),\n",
    "            layers.Flatten(),\n",
    "            layers.Dense(512, activation = 'relu'),\n",
    "            layers.Dense(10, activation = 'softmax')\n",
    "])\n"
   ]
  },
  {
   "cell_type": "markdown",
   "id": "17f2ec9c",
   "metadata": {
    "papermill": {
     "duration": 0.039603,
     "end_time": "2021-08-17T03:51:01.909492",
     "exception": false,
     "start_time": "2021-08-17T03:51:01.869889",
     "status": "completed"
    },
    "tags": []
   },
   "source": [
    "#### *Compiling the model*"
   ]
  },
  {
   "cell_type": "code",
   "execution_count": 20,
   "id": "e790b392",
   "metadata": {
    "execution": {
     "iopub.execute_input": "2021-08-17T03:51:02.001870Z",
     "iopub.status.busy": "2021-08-17T03:51:01.996726Z",
     "iopub.status.idle": "2021-08-17T03:51:02.008072Z",
     "shell.execute_reply": "2021-08-17T03:51:02.007650Z",
     "shell.execute_reply.started": "2021-08-17T03:47:30.824922Z"
    },
    "papermill": {
     "duration": 0.059738,
     "end_time": "2021-08-17T03:51:02.008181",
     "exception": false,
     "start_time": "2021-08-17T03:51:01.948443",
     "status": "completed"
    },
    "tags": []
   },
   "outputs": [],
   "source": [
    "model.compile(\n",
    "        optimizer = 'adam',\n",
    "        loss = \"sparse_categorical_crossentropy\",\n",
    "        metrics = [\"accuracy\"]\n",
    ")"
   ]
  },
  {
   "cell_type": "code",
   "execution_count": 21,
   "id": "63e1c179",
   "metadata": {
    "execution": {
     "iopub.execute_input": "2021-08-17T03:51:02.094343Z",
     "iopub.status.busy": "2021-08-17T03:51:02.093507Z",
     "iopub.status.idle": "2021-08-17T03:51:02.096466Z",
     "shell.execute_reply": "2021-08-17T03:51:02.095991Z",
     "shell.execute_reply.started": "2021-08-17T03:47:30.837355Z"
    },
    "papermill": {
     "duration": 0.050207,
     "end_time": "2021-08-17T03:51:02.096605",
     "exception": false,
     "start_time": "2021-08-17T03:51:02.046398",
     "status": "completed"
    },
    "tags": []
   },
   "outputs": [],
   "source": [
    "early_stopping = keras.callbacks.EarlyStopping(min_delta=0.001, \n",
    "                               patience = 5, \n",
    "                               restore_best_weights = True)"
   ]
  },
  {
   "cell_type": "markdown",
   "id": "7ed7bc27",
   "metadata": {
    "papermill": {
     "duration": 0.038462,
     "end_time": "2021-08-17T03:51:02.174283",
     "exception": false,
     "start_time": "2021-08-17T03:51:02.135821",
     "status": "completed"
    },
    "tags": []
   },
   "source": [
    "## *Training the model*"
   ]
  },
  {
   "cell_type": "code",
   "execution_count": 22,
   "id": "41fe476b",
   "metadata": {
    "execution": {
     "iopub.execute_input": "2021-08-17T03:51:02.260002Z",
     "iopub.status.busy": "2021-08-17T03:51:02.259434Z",
     "iopub.status.idle": "2021-08-17T03:51:40.458272Z",
     "shell.execute_reply": "2021-08-17T03:51:40.457744Z",
     "shell.execute_reply.started": "2021-08-17T03:47:30.845329Z"
    },
    "papermill": {
     "duration": 38.241039,
     "end_time": "2021-08-17T03:51:40.458422",
     "exception": false,
     "start_time": "2021-08-17T03:51:02.217383",
     "status": "completed"
    },
    "tags": []
   },
   "outputs": [
    {
     "name": "stdout",
     "output_type": "stream",
     "text": [
      "Epoch 1/20\n",
      "985/985 [==============================] - 11s 4ms/step - loss: 0.2874 - accuracy: 0.9076 - val_loss: 0.0538 - val_accuracy: 0.9835\n",
      "Epoch 2/20\n",
      "985/985 [==============================] - 4s 4ms/step - loss: 0.0406 - accuracy: 0.9868 - val_loss: 0.0587 - val_accuracy: 0.9829\n",
      "Epoch 3/20\n",
      "985/985 [==============================] - 4s 4ms/step - loss: 0.0332 - accuracy: 0.9901 - val_loss: 0.0383 - val_accuracy: 0.9878\n",
      "Epoch 4/20\n",
      "985/985 [==============================] - 4s 4ms/step - loss: 0.0198 - accuracy: 0.9931 - val_loss: 0.0472 - val_accuracy: 0.9870\n",
      "Epoch 5/20\n",
      "985/985 [==============================] - 4s 4ms/step - loss: 0.0159 - accuracy: 0.9949 - val_loss: 0.0393 - val_accuracy: 0.9890\n",
      "Epoch 6/20\n",
      "985/985 [==============================] - 4s 4ms/step - loss: 0.0093 - accuracy: 0.9968 - val_loss: 0.0409 - val_accuracy: 0.9891\n",
      "Epoch 7/20\n",
      "985/985 [==============================] - 4s 4ms/step - loss: 0.0097 - accuracy: 0.9968 - val_loss: 0.0461 - val_accuracy: 0.9876\n",
      "Epoch 8/20\n",
      "985/985 [==============================] - 4s 4ms/step - loss: 0.0125 - accuracy: 0.9959 - val_loss: 0.0398 - val_accuracy: 0.9907\n"
     ]
    }
   ],
   "source": [
    "history = model.fit(X_train_reshaped, y_train, \n",
    "                    validation_data = (X_val_reshaped, y_val),\n",
    "                    callbacks = [early_stopping],\n",
    "                    epochs=20)\n",
    "                    "
   ]
  },
  {
   "cell_type": "markdown",
   "id": "587133eb",
   "metadata": {
    "papermill": {
     "duration": 0.17639,
     "end_time": "2021-08-17T03:51:40.814075",
     "exception": false,
     "start_time": "2021-08-17T03:51:40.637685",
     "status": "completed"
    },
    "tags": []
   },
   "source": [
    "## *Model Validation*"
   ]
  },
  {
   "cell_type": "markdown",
   "id": "3ea03297",
   "metadata": {
    "papermill": {
     "duration": 0.17651,
     "end_time": "2021-08-17T03:51:41.165932",
     "exception": false,
     "start_time": "2021-08-17T03:51:40.989422",
     "status": "completed"
    },
    "tags": []
   },
   "source": [
    "#### *Dataframe of Train accuracy, Train loss, Validation accuracy & Validation loss*"
   ]
  },
  {
   "cell_type": "code",
   "execution_count": 23,
   "id": "3f4bc1f7",
   "metadata": {
    "execution": {
     "iopub.execute_input": "2021-08-17T03:51:41.529271Z",
     "iopub.status.busy": "2021-08-17T03:51:41.527940Z",
     "iopub.status.idle": "2021-08-17T03:51:41.533375Z",
     "shell.execute_reply": "2021-08-17T03:51:41.532812Z",
     "shell.execute_reply.started": "2021-08-17T03:48:01.907116Z"
    },
    "papermill": {
     "duration": 0.191757,
     "end_time": "2021-08-17T03:51:41.533511",
     "exception": false,
     "start_time": "2021-08-17T03:51:41.341754",
     "status": "completed"
    },
    "tags": []
   },
   "outputs": [
    {
     "data": {
      "text/html": [
       "<div>\n",
       "<style scoped>\n",
       "    .dataframe tbody tr th:only-of-type {\n",
       "        vertical-align: middle;\n",
       "    }\n",
       "\n",
       "    .dataframe tbody tr th {\n",
       "        vertical-align: top;\n",
       "    }\n",
       "\n",
       "    .dataframe thead th {\n",
       "        text-align: right;\n",
       "    }\n",
       "</style>\n",
       "<table border=\"1\" class=\"dataframe\">\n",
       "  <thead>\n",
       "    <tr style=\"text-align: right;\">\n",
       "      <th></th>\n",
       "      <th>loss</th>\n",
       "      <th>accuracy</th>\n",
       "      <th>val_loss</th>\n",
       "      <th>val_accuracy</th>\n",
       "    </tr>\n",
       "  </thead>\n",
       "  <tbody>\n",
       "    <tr>\n",
       "      <th>0</th>\n",
       "      <td>0.133268</td>\n",
       "      <td>0.958095</td>\n",
       "      <td>0.053753</td>\n",
       "      <td>0.983524</td>\n",
       "    </tr>\n",
       "    <tr>\n",
       "      <th>1</th>\n",
       "      <td>0.042176</td>\n",
       "      <td>0.986476</td>\n",
       "      <td>0.058735</td>\n",
       "      <td>0.982857</td>\n",
       "    </tr>\n",
       "    <tr>\n",
       "      <th>2</th>\n",
       "      <td>0.029828</td>\n",
       "      <td>0.990730</td>\n",
       "      <td>0.038346</td>\n",
       "      <td>0.987810</td>\n",
       "    </tr>\n",
       "    <tr>\n",
       "      <th>3</th>\n",
       "      <td>0.022778</td>\n",
       "      <td>0.992127</td>\n",
       "      <td>0.047217</td>\n",
       "      <td>0.986952</td>\n",
       "    </tr>\n",
       "    <tr>\n",
       "      <th>4</th>\n",
       "      <td>0.016192</td>\n",
       "      <td>0.994794</td>\n",
       "      <td>0.039311</td>\n",
       "      <td>0.989048</td>\n",
       "    </tr>\n",
       "    <tr>\n",
       "      <th>5</th>\n",
       "      <td>0.010662</td>\n",
       "      <td>0.996095</td>\n",
       "      <td>0.040948</td>\n",
       "      <td>0.989143</td>\n",
       "    </tr>\n",
       "    <tr>\n",
       "      <th>6</th>\n",
       "      <td>0.010465</td>\n",
       "      <td>0.996349</td>\n",
       "      <td>0.046145</td>\n",
       "      <td>0.987619</td>\n",
       "    </tr>\n",
       "    <tr>\n",
       "      <th>7</th>\n",
       "      <td>0.011886</td>\n",
       "      <td>0.996222</td>\n",
       "      <td>0.039754</td>\n",
       "      <td>0.990667</td>\n",
       "    </tr>\n",
       "  </tbody>\n",
       "</table>\n",
       "</div>"
      ],
      "text/plain": [
       "       loss  accuracy  val_loss  val_accuracy\n",
       "0  0.133268  0.958095  0.053753      0.983524\n",
       "1  0.042176  0.986476  0.058735      0.982857\n",
       "2  0.029828  0.990730  0.038346      0.987810\n",
       "3  0.022778  0.992127  0.047217      0.986952\n",
       "4  0.016192  0.994794  0.039311      0.989048\n",
       "5  0.010662  0.996095  0.040948      0.989143\n",
       "6  0.010465  0.996349  0.046145      0.987619\n",
       "7  0.011886  0.996222  0.039754      0.990667"
      ]
     },
     "execution_count": 23,
     "metadata": {},
     "output_type": "execute_result"
    }
   ],
   "source": [
    "history_df = pd.DataFrame(history.history)\n",
    "history_df"
   ]
  },
  {
   "cell_type": "markdown",
   "id": "4a2b6a49",
   "metadata": {
    "papermill": {
     "duration": 0.176465,
     "end_time": "2021-08-17T03:51:41.894002",
     "exception": false,
     "start_time": "2021-08-17T03:51:41.717537",
     "status": "completed"
    },
    "tags": []
   },
   "source": [
    "#### *Plot the train & validation loss curves and estimate the performance of our model*"
   ]
  },
  {
   "cell_type": "code",
   "execution_count": 24,
   "id": "bbf238b8",
   "metadata": {
    "execution": {
     "iopub.execute_input": "2021-08-17T03:51:42.251417Z",
     "iopub.status.busy": "2021-08-17T03:51:42.250868Z",
     "iopub.status.idle": "2021-08-17T03:51:42.469041Z",
     "shell.execute_reply": "2021-08-17T03:51:42.469468Z",
     "shell.execute_reply.started": "2021-08-17T03:48:01.926180Z"
    },
    "papermill": {
     "duration": 0.397396,
     "end_time": "2021-08-17T03:51:42.469639",
     "exception": false,
     "start_time": "2021-08-17T03:51:42.072243",
     "status": "completed"
    },
    "tags": []
   },
   "outputs": [
    {
     "data": {
      "text/plain": [
       "<AxesSubplot:>"
      ]
     },
     "execution_count": 24,
     "metadata": {},
     "output_type": "execute_result"
    },
    {
     "data": {
      "image/png": "[encoded data removed]",
      "text/plain": [
       "<Figure size 432x288 with 1 Axes>"
      ]
     },
     "metadata": {
      "needs_background": "light"
     },
     "output_type": "display_data"
    }
   ],
   "source": [
    "sns.lineplot(data=history_df.loc[:, [\"loss\", \"val_loss\"]])\n"
   ]
  },
  {
   "cell_type": "markdown",
   "id": "871a4689",
   "metadata": {
    "papermill": {
     "duration": 0.179439,
     "end_time": "2021-08-17T03:51:42.829586",
     "exception": false,
     "start_time": "2021-08-17T03:51:42.650147",
     "status": "completed"
    },
    "tags": []
   },
   "source": [
    "#### *Plot the train & validation accuracy curves to estimate the performance of our model*"
   ]
  },
  {
   "cell_type": "code",
   "execution_count": 25,
   "id": "f8373c2c",
   "metadata": {
    "execution": {
     "iopub.execute_input": "2021-08-17T03:51:43.275694Z",
     "iopub.status.busy": "2021-08-17T03:51:43.263323Z",
     "iopub.status.idle": "2021-08-17T03:51:43.458567Z",
     "shell.execute_reply": "2021-08-17T03:51:43.458990Z",
     "shell.execute_reply.started": "2021-08-17T03:48:02.142404Z"
    },
    "papermill": {
     "duration": 0.45714,
     "end_time": "2021-08-17T03:51:43.459141",
     "exception": false,
     "start_time": "2021-08-17T03:51:43.002001",
     "status": "completed"
    },
    "tags": []
   },
   "outputs": [
    {
     "data": {
      "text/plain": [
       "<AxesSubplot:>"
      ]
     },
     "execution_count": 25,
     "metadata": {},
     "output_type": "execute_result"
    },
    {
     "data": {
      "image/png": "[encoded data removed]",
      "text/plain": [
       "<Figure size 432x288 with 1 Axes>"
      ]
     },
     "metadata": {
      "needs_background": "light"
     },
     "output_type": "display_data"
    }
   ],
   "source": [
    "sns.lineplot(data=history_df.loc[:, [\"accuracy\", \"val_accuracy\"]])"
   ]
  },
  {
   "cell_type": "code",
   "execution_count": 26,
   "id": "75cdcb06",
   "metadata": {
    "execution": {
     "iopub.execute_input": "2021-08-17T03:51:43.816838Z",
     "iopub.status.busy": "2021-08-17T03:51:43.816273Z",
     "iopub.status.idle": "2021-08-17T03:51:45.997921Z",
     "shell.execute_reply": "2021-08-17T03:51:45.997407Z",
     "shell.execute_reply.started": "2021-08-17T03:48:02.363430Z"
    },
    "papermill": {
     "duration": 2.364531,
     "end_time": "2021-08-17T03:51:45.998062",
     "exception": false,
     "start_time": "2021-08-17T03:51:43.633531",
     "status": "completed"
    },
    "tags": []
   },
   "outputs": [
    {
     "data": {
      "text/html": [
       "<div>\n",
       "<style scoped>\n",
       "    .dataframe tbody tr th:only-of-type {\n",
       "        vertical-align: middle;\n",
       "    }\n",
       "\n",
       "    .dataframe tbody tr th {\n",
       "        vertical-align: top;\n",
       "    }\n",
       "\n",
       "    .dataframe thead th {\n",
       "        text-align: right;\n",
       "    }\n",
       "</style>\n",
       "<table border=\"1\" class=\"dataframe\">\n",
       "  <thead>\n",
       "    <tr style=\"text-align: right;\">\n",
       "      <th></th>\n",
       "      <th>pixel0</th>\n",
       "      <th>pixel1</th>\n",
       "      <th>pixel2</th>\n",
       "      <th>pixel3</th>\n",
       "      <th>pixel4</th>\n",
       "      <th>pixel5</th>\n",
       "      <th>pixel6</th>\n",
       "      <th>pixel7</th>\n",
       "      <th>pixel8</th>\n",
       "      <th>pixel9</th>\n",
       "      <th>...</th>\n",
       "      <th>pixel774</th>\n",
       "      <th>pixel775</th>\n",
       "      <th>pixel776</th>\n",
       "      <th>pixel777</th>\n",
       "      <th>pixel778</th>\n",
       "      <th>pixel779</th>\n",
       "      <th>pixel780</th>\n",
       "      <th>pixel781</th>\n",
       "      <th>pixel782</th>\n",
       "      <th>pixel783</th>\n",
       "    </tr>\n",
       "  </thead>\n",
       "  <tbody>\n",
       "    <tr>\n",
       "      <th>0</th>\n",
       "      <td>0</td>\n",
       "      <td>0</td>\n",
       "      <td>0</td>\n",
       "      <td>0</td>\n",
       "      <td>0</td>\n",
       "      <td>0</td>\n",
       "      <td>0</td>\n",
       "      <td>0</td>\n",
       "      <td>0</td>\n",
       "      <td>0</td>\n",
       "      <td>...</td>\n",
       "      <td>0</td>\n",
       "      <td>0</td>\n",
       "      <td>0</td>\n",
       "      <td>0</td>\n",
       "      <td>0</td>\n",
       "      <td>0</td>\n",
       "      <td>0</td>\n",
       "      <td>0</td>\n",
       "      <td>0</td>\n",
       "      <td>0</td>\n",
       "    </tr>\n",
       "    <tr>\n",
       "      <th>1</th>\n",
       "      <td>0</td>\n",
       "      <td>0</td>\n",
       "      <td>0</td>\n",
       "      <td>0</td>\n",
       "      <td>0</td>\n",
       "      <td>0</td>\n",
       "      <td>0</td>\n",
       "      <td>0</td>\n",
       "      <td>0</td>\n",
       "      <td>0</td>\n",
       "      <td>...</td>\n",
       "      <td>0</td>\n",
       "      <td>0</td>\n",
       "      <td>0</td>\n",
       "      <td>0</td>\n",
       "      <td>0</td>\n",
       "      <td>0</td>\n",
       "      <td>0</td>\n",
       "      <td>0</td>\n",
       "      <td>0</td>\n",
       "      <td>0</td>\n",
       "    </tr>\n",
       "    <tr>\n",
       "      <th>2</th>\n",
       "      <td>0</td>\n",
       "      <td>0</td>\n",
       "      <td>0</td>\n",
       "      <td>0</td>\n",
       "      <td>0</td>\n",
       "      <td>0</td>\n",
       "      <td>0</td>\n",
       "      <td>0</td>\n",
       "      <td>0</td>\n",
       "      <td>0</td>\n",
       "      <td>...</td>\n",
       "      <td>0</td>\n",
       "      <td>0</td>\n",
       "      <td>0</td>\n",
       "      <td>0</td>\n",
       "      <td>0</td>\n",
       "      <td>0</td>\n",
       "      <td>0</td>\n",
       "      <td>0</td>\n",
       "      <td>0</td>\n",
       "      <td>0</td>\n",
       "    </tr>\n",
       "    <tr>\n",
       "      <th>3</th>\n",
       "      <td>0</td>\n",
       "      <td>0</td>\n",
       "      <td>0</td>\n",
       "      <td>0</td>\n",
       "      <td>0</td>\n",
       "      <td>0</td>\n",
       "      <td>0</td>\n",
       "      <td>0</td>\n",
       "      <td>0</td>\n",
       "      <td>0</td>\n",
       "      <td>...</td>\n",
       "      <td>0</td>\n",
       "      <td>0</td>\n",
       "      <td>0</td>\n",
       "      <td>0</td>\n",
       "      <td>0</td>\n",
       "      <td>0</td>\n",
       "      <td>0</td>\n",
       "      <td>0</td>\n",
       "      <td>0</td>\n",
       "      <td>0</td>\n",
       "    </tr>\n",
       "    <tr>\n",
       "      <th>4</th>\n",
       "      <td>0</td>\n",
       "      <td>0</td>\n",
       "      <td>0</td>\n",
       "      <td>0</td>\n",
       "      <td>0</td>\n",
       "      <td>0</td>\n",
       "      <td>0</td>\n",
       "      <td>0</td>\n",
       "      <td>0</td>\n",
       "      <td>0</td>\n",
       "      <td>...</td>\n",
       "      <td>0</td>\n",
       "      <td>0</td>\n",
       "      <td>0</td>\n",
       "      <td>0</td>\n",
       "      <td>0</td>\n",
       "      <td>0</td>\n",
       "      <td>0</td>\n",
       "      <td>0</td>\n",
       "      <td>0</td>\n",
       "      <td>0</td>\n",
       "    </tr>\n",
       "    <tr>\n",
       "      <th>...</th>\n",
       "      <td>...</td>\n",
       "      <td>...</td>\n",
       "      <td>...</td>\n",
       "      <td>...</td>\n",
       "      <td>...</td>\n",
       "      <td>...</td>\n",
       "      <td>...</td>\n",
       "      <td>...</td>\n",
       "      <td>...</td>\n",
       "      <td>...</td>\n",
       "      <td>...</td>\n",
       "      <td>...</td>\n",
       "      <td>...</td>\n",
       "      <td>...</td>\n",
       "      <td>...</td>\n",
       "      <td>...</td>\n",
       "      <td>...</td>\n",
       "      <td>...</td>\n",
       "      <td>...</td>\n",
       "      <td>...</td>\n",
       "      <td>...</td>\n",
       "    </tr>\n",
       "    <tr>\n",
       "      <th>27995</th>\n",
       "      <td>0</td>\n",
       "      <td>0</td>\n",
       "      <td>0</td>\n",
       "      <td>0</td>\n",
       "      <td>0</td>\n",
       "      <td>0</td>\n",
       "      <td>0</td>\n",
       "      <td>0</td>\n",
       "      <td>0</td>\n",
       "      <td>0</td>\n",
       "      <td>...</td>\n",
       "      <td>0</td>\n",
       "      <td>0</td>\n",
       "      <td>0</td>\n",
       "      <td>0</td>\n",
       "      <td>0</td>\n",
       "      <td>0</td>\n",
       "      <td>0</td>\n",
       "      <td>0</td>\n",
       "      <td>0</td>\n",
       "      <td>0</td>\n",
       "    </tr>\n",
       "    <tr>\n",
       "      <th>27996</th>\n",
       "      <td>0</td>\n",
       "      <td>0</td>\n",
       "      <td>0</td>\n",
       "      <td>0</td>\n",
       "      <td>0</td>\n",
       "      <td>0</td>\n",
       "      <td>0</td>\n",
       "      <td>0</td>\n",
       "      <td>0</td>\n",
       "      <td>0</td>\n",
       "      <td>...</td>\n",
       "      <td>0</td>\n",
       "      <td>0</td>\n",
       "      <td>0</td>\n",
       "      <td>0</td>\n",
       "      <td>0</td>\n",
       "      <td>0</td>\n",
       "      <td>0</td>\n",
       "      <td>0</td>\n",
       "      <td>0</td>\n",
       "      <td>0</td>\n",
       "    </tr>\n",
       "    <tr>\n",
       "      <th>27997</th>\n",
       "      <td>0</td>\n",
       "      <td>0</td>\n",
       "      <td>0</td>\n",
       "      <td>0</td>\n",
       "      <td>0</td>\n",
       "      <td>0</td>\n",
       "      <td>0</td>\n",
       "      <td>0</td>\n",
       "      <td>0</td>\n",
       "      <td>0</td>\n",
       "      <td>...</td>\n",
       "      <td>0</td>\n",
       "      <td>0</td>\n",
       "      <td>0</td>\n",
       "      <td>0</td>\n",
       "      <td>0</td>\n",
       "      <td>0</td>\n",
       "      <td>0</td>\n",
       "      <td>0</td>\n",
       "      <td>0</td>\n",
       "      <td>0</td>\n",
       "    </tr>\n",
       "    <tr>\n",
       "      <th>27998</th>\n",
       "      <td>0</td>\n",
       "      <td>0</td>\n",
       "      <td>0</td>\n",
       "      <td>0</td>\n",
       "      <td>0</td>\n",
       "      <td>0</td>\n",
       "      <td>0</td>\n",
       "      <td>0</td>\n",
       "      <td>0</td>\n",
       "      <td>0</td>\n",
       "      <td>...</td>\n",
       "      <td>0</td>\n",
       "      <td>0</td>\n",
       "      <td>0</td>\n",
       "      <td>0</td>\n",
       "      <td>0</td>\n",
       "      <td>0</td>\n",
       "      <td>0</td>\n",
       "      <td>0</td>\n",
       "      <td>0</td>\n",
       "      <td>0</td>\n",
       "    </tr>\n",
       "    <tr>\n",
       "      <th>27999</th>\n",
       "      <td>0</td>\n",
       "      <td>0</td>\n",
       "      <td>0</td>\n",
       "      <td>0</td>\n",
       "      <td>0</td>\n",
       "      <td>0</td>\n",
       "      <td>0</td>\n",
       "      <td>0</td>\n",
       "      <td>0</td>\n",
       "      <td>0</td>\n",
       "      <td>...</td>\n",
       "      <td>0</td>\n",
       "      <td>0</td>\n",
       "      <td>0</td>\n",
       "      <td>0</td>\n",
       "      <td>0</td>\n",
       "      <td>0</td>\n",
       "      <td>0</td>\n",
       "      <td>0</td>\n",
       "      <td>0</td>\n",
       "      <td>0</td>\n",
       "    </tr>\n",
       "  </tbody>\n",
       "</table>\n",
       "<p>28000 rows × 784 columns</p>\n",
       "</div>"
      ],
      "text/plain": [
       "       pixel0  pixel1  pixel2  pixel3  pixel4  pixel5  pixel6  pixel7  pixel8  \\\n",
       "0           0       0       0       0       0       0       0       0       0   \n",
       "1           0       0       0       0       0       0       0       0       0   \n",
       "2           0       0       0       0       0       0       0       0       0   \n",
       "3           0       0       0       0       0       0       0       0       0   \n",
       "4           0       0       0       0       0       0       0       0       0   \n",
       "...       ...     ...     ...     ...     ...     ...     ...     ...     ...   \n",
       "27995       0       0       0       0       0       0       0       0       0   \n",
       "27996       0       0       0       0       0       0       0       0       0   \n",
       "27997       0       0       0       0       0       0       0       0       0   \n",
       "27998       0       0       0       0       0       0       0       0       0   \n",
       "27999       0       0       0       0       0       0       0       0       0   \n",
       "\n",
       "       pixel9  ...  pixel774  pixel775  pixel776  pixel777  pixel778  \\\n",
       "0           0  ...         0         0         0         0         0   \n",
       "1           0  ...         0         0         0         0         0   \n",
       "2           0  ...         0         0         0         0         0   \n",
       "3           0  ...         0         0         0         0         0   \n",
       "4           0  ...         0         0         0         0         0   \n",
       "...       ...  ...       ...       ...       ...       ...       ...   \n",
       "27995       0  ...         0         0         0         0         0   \n",
       "27996       0  ...         0         0         0         0         0   \n",
       "27997       0  ...         0         0         0         0         0   \n",
       "27998       0  ...         0         0         0         0         0   \n",
       "27999       0  ...         0         0         0         0         0   \n",
       "\n",
       "       pixel779  pixel780  pixel781  pixel782  pixel783  \n",
       "0             0         0         0         0         0  \n",
       "1             0         0         0         0         0  \n",
       "2             0         0         0         0         0  \n",
       "3             0         0         0         0         0  \n",
       "4             0         0         0         0         0  \n",
       "...         ...       ...       ...       ...       ...  \n",
       "27995         0         0         0         0         0  \n",
       "27996         0         0         0         0         0  \n",
       "27997         0         0         0         0         0  \n",
       "27998         0         0         0         0         0  \n",
       "27999         0         0         0         0         0  \n",
       "\n",
       "[28000 rows x 784 columns]"
      ]
     },
     "execution_count": 26,
     "metadata": {},
     "output_type": "execute_result"
    }
   ],
   "source": [
    "test = pd.read_csv(\"/kaggle/input/digit-recognizer/test.csv\")\n",
    "test"
   ]
  },
  {
   "cell_type": "code",
   "execution_count": 27,
   "id": "54d86115",
   "metadata": {
    "execution": {
     "iopub.execute_input": "2021-08-17T03:51:46.379095Z",
     "iopub.status.busy": "2021-08-17T03:51:46.378001Z",
     "iopub.status.idle": "2021-08-17T03:51:46.476057Z",
     "shell.execute_reply": "2021-08-17T03:51:46.476509Z",
     "shell.execute_reply.started": "2021-08-17T03:48:03.841492Z"
    },
    "papermill": {
     "duration": 0.297529,
     "end_time": "2021-08-17T03:51:46.476703",
     "exception": false,
     "start_time": "2021-08-17T03:51:46.179174",
     "status": "completed"
    },
    "tags": []
   },
   "outputs": [
    {
     "data": {
      "text/html": [
       "<div>\n",
       "<style scoped>\n",
       "    .dataframe tbody tr th:only-of-type {\n",
       "        vertical-align: middle;\n",
       "    }\n",
       "\n",
       "    .dataframe tbody tr th {\n",
       "        vertical-align: top;\n",
       "    }\n",
       "\n",
       "    .dataframe thead th {\n",
       "        text-align: right;\n",
       "    }\n",
       "</style>\n",
       "<table border=\"1\" class=\"dataframe\">\n",
       "  <thead>\n",
       "    <tr style=\"text-align: right;\">\n",
       "      <th></th>\n",
       "      <th>pixel0</th>\n",
       "      <th>pixel1</th>\n",
       "      <th>pixel2</th>\n",
       "      <th>pixel3</th>\n",
       "      <th>pixel4</th>\n",
       "      <th>pixel5</th>\n",
       "      <th>pixel6</th>\n",
       "      <th>pixel7</th>\n",
       "      <th>pixel8</th>\n",
       "      <th>pixel9</th>\n",
       "      <th>...</th>\n",
       "      <th>pixel774</th>\n",
       "      <th>pixel775</th>\n",
       "      <th>pixel776</th>\n",
       "      <th>pixel777</th>\n",
       "      <th>pixel778</th>\n",
       "      <th>pixel779</th>\n",
       "      <th>pixel780</th>\n",
       "      <th>pixel781</th>\n",
       "      <th>pixel782</th>\n",
       "      <th>pixel783</th>\n",
       "    </tr>\n",
       "  </thead>\n",
       "  <tbody>\n",
       "    <tr>\n",
       "      <th>0</th>\n",
       "      <td>0.0</td>\n",
       "      <td>0.0</td>\n",
       "      <td>0.0</td>\n",
       "      <td>0.0</td>\n",
       "      <td>0.0</td>\n",
       "      <td>0.0</td>\n",
       "      <td>0.0</td>\n",
       "      <td>0.0</td>\n",
       "      <td>0.0</td>\n",
       "      <td>0.0</td>\n",
       "      <td>...</td>\n",
       "      <td>0.0</td>\n",
       "      <td>0.0</td>\n",
       "      <td>0.0</td>\n",
       "      <td>0.0</td>\n",
       "      <td>0.0</td>\n",
       "      <td>0.0</td>\n",
       "      <td>0.0</td>\n",
       "      <td>0.0</td>\n",
       "      <td>0.0</td>\n",
       "      <td>0.0</td>\n",
       "    </tr>\n",
       "    <tr>\n",
       "      <th>1</th>\n",
       "      <td>0.0</td>\n",
       "      <td>0.0</td>\n",
       "      <td>0.0</td>\n",
       "      <td>0.0</td>\n",
       "      <td>0.0</td>\n",
       "      <td>0.0</td>\n",
       "      <td>0.0</td>\n",
       "      <td>0.0</td>\n",
       "      <td>0.0</td>\n",
       "      <td>0.0</td>\n",
       "      <td>...</td>\n",
       "      <td>0.0</td>\n",
       "      <td>0.0</td>\n",
       "      <td>0.0</td>\n",
       "      <td>0.0</td>\n",
       "      <td>0.0</td>\n",
       "      <td>0.0</td>\n",
       "      <td>0.0</td>\n",
       "      <td>0.0</td>\n",
       "      <td>0.0</td>\n",
       "      <td>0.0</td>\n",
       "    </tr>\n",
       "    <tr>\n",
       "      <th>2</th>\n",
       "      <td>0.0</td>\n",
       "      <td>0.0</td>\n",
       "      <td>0.0</td>\n",
       "      <td>0.0</td>\n",
       "      <td>0.0</td>\n",
       "      <td>0.0</td>\n",
       "      <td>0.0</td>\n",
       "      <td>0.0</td>\n",
       "      <td>0.0</td>\n",
       "      <td>0.0</td>\n",
       "      <td>...</td>\n",
       "      <td>0.0</td>\n",
       "      <td>0.0</td>\n",
       "      <td>0.0</td>\n",
       "      <td>0.0</td>\n",
       "      <td>0.0</td>\n",
       "      <td>0.0</td>\n",
       "      <td>0.0</td>\n",
       "      <td>0.0</td>\n",
       "      <td>0.0</td>\n",
       "      <td>0.0</td>\n",
       "    </tr>\n",
       "    <tr>\n",
       "      <th>3</th>\n",
       "      <td>0.0</td>\n",
       "      <td>0.0</td>\n",
       "      <td>0.0</td>\n",
       "      <td>0.0</td>\n",
       "      <td>0.0</td>\n",
       "      <td>0.0</td>\n",
       "      <td>0.0</td>\n",
       "      <td>0.0</td>\n",
       "      <td>0.0</td>\n",
       "      <td>0.0</td>\n",
       "      <td>...</td>\n",
       "      <td>0.0</td>\n",
       "      <td>0.0</td>\n",
       "      <td>0.0</td>\n",
       "      <td>0.0</td>\n",
       "      <td>0.0</td>\n",
       "      <td>0.0</td>\n",
       "      <td>0.0</td>\n",
       "      <td>0.0</td>\n",
       "      <td>0.0</td>\n",
       "      <td>0.0</td>\n",
       "    </tr>\n",
       "    <tr>\n",
       "      <th>4</th>\n",
       "      <td>0.0</td>\n",
       "      <td>0.0</td>\n",
       "      <td>0.0</td>\n",
       "      <td>0.0</td>\n",
       "      <td>0.0</td>\n",
       "      <td>0.0</td>\n",
       "      <td>0.0</td>\n",
       "      <td>0.0</td>\n",
       "      <td>0.0</td>\n",
       "      <td>0.0</td>\n",
       "      <td>...</td>\n",
       "      <td>0.0</td>\n",
       "      <td>0.0</td>\n",
       "      <td>0.0</td>\n",
       "      <td>0.0</td>\n",
       "      <td>0.0</td>\n",
       "      <td>0.0</td>\n",
       "      <td>0.0</td>\n",
       "      <td>0.0</td>\n",
       "      <td>0.0</td>\n",
       "      <td>0.0</td>\n",
       "    </tr>\n",
       "    <tr>\n",
       "      <th>...</th>\n",
       "      <td>...</td>\n",
       "      <td>...</td>\n",
       "      <td>...</td>\n",
       "      <td>...</td>\n",
       "      <td>...</td>\n",
       "      <td>...</td>\n",
       "      <td>...</td>\n",
       "      <td>...</td>\n",
       "      <td>...</td>\n",
       "      <td>...</td>\n",
       "      <td>...</td>\n",
       "      <td>...</td>\n",
       "      <td>...</td>\n",
       "      <td>...</td>\n",
       "      <td>...</td>\n",
       "      <td>...</td>\n",
       "      <td>...</td>\n",
       "      <td>...</td>\n",
       "      <td>...</td>\n",
       "      <td>...</td>\n",
       "      <td>...</td>\n",
       "    </tr>\n",
       "    <tr>\n",
       "      <th>27995</th>\n",
       "      <td>0.0</td>\n",
       "      <td>0.0</td>\n",
       "      <td>0.0</td>\n",
       "      <td>0.0</td>\n",
       "      <td>0.0</td>\n",
       "      <td>0.0</td>\n",
       "      <td>0.0</td>\n",
       "      <td>0.0</td>\n",
       "      <td>0.0</td>\n",
       "      <td>0.0</td>\n",
       "      <td>...</td>\n",
       "      <td>0.0</td>\n",
       "      <td>0.0</td>\n",
       "      <td>0.0</td>\n",
       "      <td>0.0</td>\n",
       "      <td>0.0</td>\n",
       "      <td>0.0</td>\n",
       "      <td>0.0</td>\n",
       "      <td>0.0</td>\n",
       "      <td>0.0</td>\n",
       "      <td>0.0</td>\n",
       "    </tr>\n",
       "    <tr>\n",
       "      <th>27996</th>\n",
       "      <td>0.0</td>\n",
       "      <td>0.0</td>\n",
       "      <td>0.0</td>\n",
       "      <td>0.0</td>\n",
       "      <td>0.0</td>\n",
       "      <td>0.0</td>\n",
       "      <td>0.0</td>\n",
       "      <td>0.0</td>\n",
       "      <td>0.0</td>\n",
       "      <td>0.0</td>\n",
       "      <td>...</td>\n",
       "      <td>0.0</td>\n",
       "      <td>0.0</td>\n",
       "      <td>0.0</td>\n",
       "      <td>0.0</td>\n",
       "      <td>0.0</td>\n",
       "      <td>0.0</td>\n",
       "      <td>0.0</td>\n",
       "      <td>0.0</td>\n",
       "      <td>0.0</td>\n",
       "      <td>0.0</td>\n",
       "    </tr>\n",
       "    <tr>\n",
       "      <th>27997</th>\n",
       "      <td>0.0</td>\n",
       "      <td>0.0</td>\n",
       "      <td>0.0</td>\n",
       "      <td>0.0</td>\n",
       "      <td>0.0</td>\n",
       "      <td>0.0</td>\n",
       "      <td>0.0</td>\n",
       "      <td>0.0</td>\n",
       "      <td>0.0</td>\n",
       "      <td>0.0</td>\n",
       "      <td>...</td>\n",
       "      <td>0.0</td>\n",
       "      <td>0.0</td>\n",
       "      <td>0.0</td>\n",
       "      <td>0.0</td>\n",
       "      <td>0.0</td>\n",
       "      <td>0.0</td>\n",
       "      <td>0.0</td>\n",
       "      <td>0.0</td>\n",
       "      <td>0.0</td>\n",
       "      <td>0.0</td>\n",
       "    </tr>\n",
       "    <tr>\n",
       "      <th>27998</th>\n",
       "      <td>0.0</td>\n",
       "      <td>0.0</td>\n",
       "      <td>0.0</td>\n",
       "      <td>0.0</td>\n",
       "      <td>0.0</td>\n",
       "      <td>0.0</td>\n",
       "      <td>0.0</td>\n",
       "      <td>0.0</td>\n",
       "      <td>0.0</td>\n",
       "      <td>0.0</td>\n",
       "      <td>...</td>\n",
       "      <td>0.0</td>\n",
       "      <td>0.0</td>\n",
       "      <td>0.0</td>\n",
       "      <td>0.0</td>\n",
       "      <td>0.0</td>\n",
       "      <td>0.0</td>\n",
       "      <td>0.0</td>\n",
       "      <td>0.0</td>\n",
       "      <td>0.0</td>\n",
       "      <td>0.0</td>\n",
       "    </tr>\n",
       "    <tr>\n",
       "      <th>27999</th>\n",
       "      <td>0.0</td>\n",
       "      <td>0.0</td>\n",
       "      <td>0.0</td>\n",
       "      <td>0.0</td>\n",
       "      <td>0.0</td>\n",
       "      <td>0.0</td>\n",
       "      <td>0.0</td>\n",
       "      <td>0.0</td>\n",
       "      <td>0.0</td>\n",
       "      <td>0.0</td>\n",
       "      <td>...</td>\n",
       "      <td>0.0</td>\n",
       "      <td>0.0</td>\n",
       "      <td>0.0</td>\n",
       "      <td>0.0</td>\n",
       "      <td>0.0</td>\n",
       "      <td>0.0</td>\n",
       "      <td>0.0</td>\n",
       "      <td>0.0</td>\n",
       "      <td>0.0</td>\n",
       "      <td>0.0</td>\n",
       "    </tr>\n",
       "  </tbody>\n",
       "</table>\n",
       "<p>28000 rows × 784 columns</p>\n",
       "</div>"
      ],
      "text/plain": [
       "       pixel0  pixel1  pixel2  pixel3  pixel4  pixel5  pixel6  pixel7  pixel8  \\\n",
       "0         0.0     0.0     0.0     0.0     0.0     0.0     0.0     0.0     0.0   \n",
       "1         0.0     0.0     0.0     0.0     0.0     0.0     0.0     0.0     0.0   \n",
       "2         0.0     0.0     0.0     0.0     0.0     0.0     0.0     0.0     0.0   \n",
       "3         0.0     0.0     0.0     0.0     0.0     0.0     0.0     0.0     0.0   \n",
       "4         0.0     0.0     0.0     0.0     0.0     0.0     0.0     0.0     0.0   \n",
       "...       ...     ...     ...     ...     ...     ...     ...     ...     ...   \n",
       "27995     0.0     0.0     0.0     0.0     0.0     0.0     0.0     0.0     0.0   \n",
       "27996     0.0     0.0     0.0     0.0     0.0     0.0     0.0     0.0     0.0   \n",
       "27997     0.0     0.0     0.0     0.0     0.0     0.0     0.0     0.0     0.0   \n",
       "27998     0.0     0.0     0.0     0.0     0.0     0.0     0.0     0.0     0.0   \n",
       "27999     0.0     0.0     0.0     0.0     0.0     0.0     0.0     0.0     0.0   \n",
       "\n",
       "       pixel9  ...  pixel774  pixel775  pixel776  pixel777  pixel778  \\\n",
       "0         0.0  ...       0.0       0.0       0.0       0.0       0.0   \n",
       "1         0.0  ...       0.0       0.0       0.0       0.0       0.0   \n",
       "2         0.0  ...       0.0       0.0       0.0       0.0       0.0   \n",
       "3         0.0  ...       0.0       0.0       0.0       0.0       0.0   \n",
       "4         0.0  ...       0.0       0.0       0.0       0.0       0.0   \n",
       "...       ...  ...       ...       ...       ...       ...       ...   \n",
       "27995     0.0  ...       0.0       0.0       0.0       0.0       0.0   \n",
       "27996     0.0  ...       0.0       0.0       0.0       0.0       0.0   \n",
       "27997     0.0  ...       0.0       0.0       0.0       0.0       0.0   \n",
       "27998     0.0  ...       0.0       0.0       0.0       0.0       0.0   \n",
       "27999     0.0  ...       0.0       0.0       0.0       0.0       0.0   \n",
       "\n",
       "       pixel779  pixel780  pixel781  pixel782  pixel783  \n",
       "0           0.0       0.0       0.0       0.0       0.0  \n",
       "1           0.0       0.0       0.0       0.0       0.0  \n",
       "2           0.0       0.0       0.0       0.0       0.0  \n",
       "3           0.0       0.0       0.0       0.0       0.0  \n",
       "4           0.0       0.0       0.0       0.0       0.0  \n",
       "...         ...       ...       ...       ...       ...  \n",
       "27995       0.0       0.0       0.0       0.0       0.0  \n",
       "27996       0.0       0.0       0.0       0.0       0.0  \n",
       "27997       0.0       0.0       0.0       0.0       0.0  \n",
       "27998       0.0       0.0       0.0       0.0       0.0  \n",
       "27999       0.0       0.0       0.0       0.0       0.0  \n",
       "\n",
       "[28000 rows x 784 columns]"
      ]
     },
     "execution_count": 27,
     "metadata": {},
     "output_type": "execute_result"
    }
   ],
   "source": [
    "test = test/255.0\n",
    "test"
   ]
  },
  {
   "cell_type": "code",
   "execution_count": 28,
   "id": "9fd3a472",
   "metadata": {
    "execution": {
     "iopub.execute_input": "2021-08-17T03:51:46.848164Z",
     "iopub.status.busy": "2021-08-17T03:51:46.847412Z",
     "iopub.status.idle": "2021-08-17T03:51:46.854700Z",
     "shell.execute_reply": "2021-08-17T03:51:46.854118Z",
     "shell.execute_reply.started": "2021-08-17T03:48:03.952246Z"
    },
    "papermill": {
     "duration": 0.187978,
     "end_time": "2021-08-17T03:51:46.854837",
     "exception": false,
     "start_time": "2021-08-17T03:51:46.666859",
     "status": "completed"
    },
    "tags": []
   },
   "outputs": [
    {
     "data": {
      "text/plain": [
       "array([[0., 0., 0., ..., 0., 0., 0.],\n",
       "       [0., 0., 0., ..., 0., 0., 0.],\n",
       "       [0., 0., 0., ..., 0., 0., 0.],\n",
       "       ...,\n",
       "       [0., 0., 0., ..., 0., 0., 0.],\n",
       "       [0., 0., 0., ..., 0., 0., 0.],\n",
       "       [0., 0., 0., ..., 0., 0., 0.]])"
      ]
     },
     "execution_count": 28,
     "metadata": {},
     "output_type": "execute_result"
    }
   ],
   "source": [
    "test_flattened = test.to_numpy()\n",
    "test_flattened"
   ]
  },
  {
   "cell_type": "code",
   "execution_count": 29,
   "id": "430a0119",
   "metadata": {
    "execution": {
     "iopub.execute_input": "2021-08-17T03:51:47.227453Z",
     "iopub.status.busy": "2021-08-17T03:51:47.226787Z",
     "iopub.status.idle": "2021-08-17T03:51:47.229890Z",
     "shell.execute_reply": "2021-08-17T03:51:47.230286Z",
     "shell.execute_reply.started": "2021-08-17T03:48:03.961218Z"
    },
    "papermill": {
     "duration": 0.189808,
     "end_time": "2021-08-17T03:51:47.230413",
     "exception": false,
     "start_time": "2021-08-17T03:51:47.040605",
     "status": "completed"
    },
    "tags": []
   },
   "outputs": [
    {
     "data": {
      "text/plain": [
       "(28000, 28, 28, 1)"
      ]
     },
     "execution_count": 29,
     "metadata": {},
     "output_type": "execute_result"
    }
   ],
   "source": [
    "test_reshaped = test_flattened.reshape(test.shape[0], 28, 28 ,1)\n",
    "test_reshaped.shape"
   ]
  },
  {
   "cell_type": "code",
   "execution_count": 30,
   "id": "f1ff0b0d",
   "metadata": {
    "execution": {
     "iopub.execute_input": "2021-08-17T03:51:47.751133Z",
     "iopub.status.busy": "2021-08-17T03:51:47.750165Z",
     "iopub.status.idle": "2021-08-17T03:51:49.014160Z",
     "shell.execute_reply": "2021-08-17T03:51:49.013618Z",
     "shell.execute_reply.started": "2021-08-17T03:48:03.971796Z"
    },
    "papermill": {
     "duration": 1.571676,
     "end_time": "2021-08-17T03:51:49.014285",
     "exception": false,
     "start_time": "2021-08-17T03:51:47.442609",
     "status": "completed"
    },
    "tags": []
   },
   "outputs": [],
   "source": [
    "test_predictions = model.predict(test_reshaped)\n",
    "test_predict = [np.argmax(i) for i in test_predictions]\n"
   ]
  },
  {
   "cell_type": "code",
   "execution_count": 31,
   "id": "42be64c2",
   "metadata": {
    "execution": {
     "iopub.execute_input": "2021-08-17T03:51:49.395502Z",
     "iopub.status.busy": "2021-08-17T03:51:49.394850Z",
     "iopub.status.idle": "2021-08-17T03:51:49.398063Z",
     "shell.execute_reply": "2021-08-17T03:51:49.398452Z",
     "shell.execute_reply.started": "2021-08-17T03:48:05.221130Z"
    },
    "papermill": {
     "duration": 0.201308,
     "end_time": "2021-08-17T03:51:49.398599",
     "exception": false,
     "start_time": "2021-08-17T03:51:49.197291",
     "status": "completed"
    },
    "tags": []
   },
   "outputs": [
    {
     "data": {
      "text/html": [
       "<div>\n",
       "<style scoped>\n",
       "    .dataframe tbody tr th:only-of-type {\n",
       "        vertical-align: middle;\n",
       "    }\n",
       "\n",
       "    .dataframe tbody tr th {\n",
       "        vertical-align: top;\n",
       "    }\n",
       "\n",
       "    .dataframe thead th {\n",
       "        text-align: right;\n",
       "    }\n",
       "</style>\n",
       "<table border=\"1\" class=\"dataframe\">\n",
       "  <thead>\n",
       "    <tr style=\"text-align: right;\">\n",
       "      <th></th>\n",
       "      <th>Label</th>\n",
       "    </tr>\n",
       "  </thead>\n",
       "  <tbody>\n",
       "    <tr>\n",
       "      <th>0</th>\n",
       "      <td>2</td>\n",
       "    </tr>\n",
       "    <tr>\n",
       "      <th>1</th>\n",
       "      <td>0</td>\n",
       "    </tr>\n",
       "    <tr>\n",
       "      <th>2</th>\n",
       "      <td>9</td>\n",
       "    </tr>\n",
       "    <tr>\n",
       "      <th>3</th>\n",
       "      <td>9</td>\n",
       "    </tr>\n",
       "    <tr>\n",
       "      <th>4</th>\n",
       "      <td>3</td>\n",
       "    </tr>\n",
       "    <tr>\n",
       "      <th>...</th>\n",
       "      <td>...</td>\n",
       "    </tr>\n",
       "    <tr>\n",
       "      <th>27995</th>\n",
       "      <td>9</td>\n",
       "    </tr>\n",
       "    <tr>\n",
       "      <th>27996</th>\n",
       "      <td>7</td>\n",
       "    </tr>\n",
       "    <tr>\n",
       "      <th>27997</th>\n",
       "      <td>3</td>\n",
       "    </tr>\n",
       "    <tr>\n",
       "      <th>27998</th>\n",
       "      <td>9</td>\n",
       "    </tr>\n",
       "    <tr>\n",
       "      <th>27999</th>\n",
       "      <td>2</td>\n",
       "    </tr>\n",
       "  </tbody>\n",
       "</table>\n",
       "<p>28000 rows × 1 columns</p>\n",
       "</div>"
      ],
      "text/plain": [
       "       Label\n",
       "0          2\n",
       "1          0\n",
       "2          9\n",
       "3          9\n",
       "4          3\n",
       "...      ...\n",
       "27995      9\n",
       "27996      7\n",
       "27997      3\n",
       "27998      9\n",
       "27999      2\n",
       "\n",
       "[28000 rows x 1 columns]"
      ]
     },
     "execution_count": 31,
     "metadata": {},
     "output_type": "execute_result"
    }
   ],
   "source": [
    "output = pd.DataFrame(data=np.array(test_predict), columns=['Label'])\n",
    "output"
   ]
  },
  {
   "cell_type": "code",
   "execution_count": 32,
   "id": "e9975260",
   "metadata": {
    "execution": {
     "iopub.execute_input": "2021-08-17T03:51:49.764655Z",
     "iopub.status.busy": "2021-08-17T03:51:49.764017Z",
     "iopub.status.idle": "2021-08-17T03:51:49.768192Z",
     "shell.execute_reply": "2021-08-17T03:51:49.767693Z",
     "shell.execute_reply.started": "2021-08-17T03:48:05.244673Z"
    },
    "papermill": {
     "duration": 0.189277,
     "end_time": "2021-08-17T03:51:49.768318",
     "exception": false,
     "start_time": "2021-08-17T03:51:49.579041",
     "status": "completed"
    },
    "tags": []
   },
   "outputs": [],
   "source": [
    "output.index = np.arange(1, len(output)+1)\n",
    "\n"
   ]
  },
  {
   "cell_type": "code",
   "execution_count": 33,
   "id": "9df8662c",
   "metadata": {
    "execution": {
     "iopub.execute_input": "2021-08-17T03:51:50.140217Z",
     "iopub.status.busy": "2021-08-17T03:51:50.139491Z",
     "iopub.status.idle": "2021-08-17T03:51:50.142866Z",
     "shell.execute_reply": "2021-08-17T03:51:50.142446Z",
     "shell.execute_reply.started": "2021-08-17T03:48:05.254699Z"
    },
    "papermill": {
     "duration": 0.191734,
     "end_time": "2021-08-17T03:51:50.142979",
     "exception": false,
     "start_time": "2021-08-17T03:51:49.951245",
     "status": "completed"
    },
    "tags": []
   },
   "outputs": [],
   "source": [
    "output[\"ImageId\"] = output.index"
   ]
  },
  {
   "cell_type": "code",
   "execution_count": 34,
   "id": "9e55e72c",
   "metadata": {
    "execution": {
     "iopub.execute_input": "2021-08-17T03:51:50.524343Z",
     "iopub.status.busy": "2021-08-17T03:51:50.523379Z",
     "iopub.status.idle": "2021-08-17T03:51:50.533630Z",
     "shell.execute_reply": "2021-08-17T03:51:50.534077Z",
     "shell.execute_reply.started": "2021-08-17T03:48:05.267167Z"
    },
    "papermill": {
     "duration": 0.208016,
     "end_time": "2021-08-17T03:51:50.534218",
     "exception": false,
     "start_time": "2021-08-17T03:51:50.326202",
     "status": "completed"
    },
    "tags": []
   },
   "outputs": [
    {
     "data": {
      "text/html": [
       "<div>\n",
       "<style scoped>\n",
       "    .dataframe tbody tr th:only-of-type {\n",
       "        vertical-align: middle;\n",
       "    }\n",
       "\n",
       "    .dataframe tbody tr th {\n",
       "        vertical-align: top;\n",
       "    }\n",
       "\n",
       "    .dataframe thead th {\n",
       "        text-align: right;\n",
       "    }\n",
       "</style>\n",
       "<table border=\"1\" class=\"dataframe\">\n",
       "  <thead>\n",
       "    <tr style=\"text-align: right;\">\n",
       "      <th></th>\n",
       "      <th>ImageId</th>\n",
       "      <th>Label</th>\n",
       "    </tr>\n",
       "  </thead>\n",
       "  <tbody>\n",
       "    <tr>\n",
       "      <th>1</th>\n",
       "      <td>1</td>\n",
       "      <td>2</td>\n",
       "    </tr>\n",
       "    <tr>\n",
       "      <th>2</th>\n",
       "      <td>2</td>\n",
       "      <td>0</td>\n",
       "    </tr>\n",
       "    <tr>\n",
       "      <th>3</th>\n",
       "      <td>3</td>\n",
       "      <td>9</td>\n",
       "    </tr>\n",
       "    <tr>\n",
       "      <th>4</th>\n",
       "      <td>4</td>\n",
       "      <td>9</td>\n",
       "    </tr>\n",
       "    <tr>\n",
       "      <th>5</th>\n",
       "      <td>5</td>\n",
       "      <td>3</td>\n",
       "    </tr>\n",
       "    <tr>\n",
       "      <th>...</th>\n",
       "      <td>...</td>\n",
       "      <td>...</td>\n",
       "    </tr>\n",
       "    <tr>\n",
       "      <th>27996</th>\n",
       "      <td>27996</td>\n",
       "      <td>9</td>\n",
       "    </tr>\n",
       "    <tr>\n",
       "      <th>27997</th>\n",
       "      <td>27997</td>\n",
       "      <td>7</td>\n",
       "    </tr>\n",
       "    <tr>\n",
       "      <th>27998</th>\n",
       "      <td>27998</td>\n",
       "      <td>3</td>\n",
       "    </tr>\n",
       "    <tr>\n",
       "      <th>27999</th>\n",
       "      <td>27999</td>\n",
       "      <td>9</td>\n",
       "    </tr>\n",
       "    <tr>\n",
       "      <th>28000</th>\n",
       "      <td>28000</td>\n",
       "      <td>2</td>\n",
       "    </tr>\n",
       "  </tbody>\n",
       "</table>\n",
       "<p>28000 rows × 2 columns</p>\n",
       "</div>"
      ],
      "text/plain": [
       "       ImageId  Label\n",
       "1            1      2\n",
       "2            2      0\n",
       "3            3      9\n",
       "4            4      9\n",
       "5            5      3\n",
       "...        ...    ...\n",
       "27996    27996      9\n",
       "27997    27997      7\n",
       "27998    27998      3\n",
       "27999    27999      9\n",
       "28000    28000      2\n",
       "\n",
       "[28000 rows x 2 columns]"
      ]
     },
     "execution_count": 34,
     "metadata": {},
     "output_type": "execute_result"
    }
   ],
   "source": [
    "output = output[[\"ImageId\", \"Label\"]]\n",
    "output"
   ]
  },
  {
   "cell_type": "code",
   "execution_count": 35,
   "id": "fcae2ac8",
   "metadata": {
    "execution": {
     "iopub.execute_input": "2021-08-17T03:51:50.909828Z",
     "iopub.status.busy": "2021-08-17T03:51:50.909013Z",
     "iopub.status.idle": "2021-08-17T03:51:50.959825Z",
     "shell.execute_reply": "2021-08-17T03:51:50.959272Z",
     "shell.execute_reply.started": "2021-08-17T03:48:05.294267Z"
    },
    "papermill": {
     "duration": 0.23597,
     "end_time": "2021-08-17T03:51:50.959942",
     "exception": false,
     "start_time": "2021-08-17T03:51:50.723972",
     "status": "completed"
    },
    "tags": []
   },
   "outputs": [],
   "source": [
    "output.to_csv(\"submission\", index=False)"
   ]
  }
 ],
 "metadata": {
  "kernelspec": {
   "display_name": "Python 3",
   "language": "python",
   "name": "python3"
  },
  "language_info": {
   "codemirror_mode": {
    "name": "ipython",
    "version": 3
   },
   "file_extension": ".py",
   "mimetype": "text/x-python",
   "name": "python",
   "nbconvert_exporter": "python",
   "pygments_lexer": "ipython3",
   "version": "3.7.10"
  },
  "papermill": {
   "default_parameters": {},
   "duration": 71.7474,
   "end_time": "2021-08-17T03:51:53.698683",
   "environment_variables": {},
   "exception": null,
   "input_path": "__notebook__.ipynb",
   "output_path": "__notebook__.ipynb",
   "parameters": {},
   "start_time": "2021-08-17T03:50:41.951283",
   "version": "2.3.3"
  }
 },
 "nbformat": 4,
 "nbformat_minor": 5
}
